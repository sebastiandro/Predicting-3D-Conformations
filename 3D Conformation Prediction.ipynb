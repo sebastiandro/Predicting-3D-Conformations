{
 "cells": [
  {
   "cell_type": "markdown",
   "metadata": {},
   "source": [
    "# 3D Conformation Prediction"
   ]
  },
  {
   "cell_type": "code",
   "execution_count": 3,
   "metadata": {},
   "outputs": [],
   "source": [
    "import pandas as pd\n",
    "import numpy as np\n",
    "import os\n",
    "import glob\n",
    "import torch\n",
    "import torch.nn.functional as F\n",
    "from tqdm import tqdm\n",
    "from rdkit.Chem import MolFromSmiles"
   ]
  },
  {
   "cell_type": "code",
   "execution_count": 3,
   "metadata": {},
   "outputs": [],
   "source": [
    "from IPython import get_ipython\n",
    "\n",
    "def tqdm_clear(*args, **kwargs):\n",
    "    from tqdm import tqdm\n",
    "    getattr(tqdm, '_instances', {}).clear()\n",
    "\n",
    "get_ipython().events.register('post_execute', tqdm_clear)"
   ]
  },
  {
   "cell_type": "markdown",
   "metadata": {},
   "source": [
    "## Load QM9"
   ]
  },
  {
   "cell_type": "code",
   "execution_count": 148,
   "metadata": {
    "scrolled": true
   },
   "outputs": [
    {
     "name": "stderr",
     "output_type": "stream",
     "text": [
      "100%|██████████| 133885/133885 [00:06<00:00, 19880.71it/s]\n"
     ]
    }
   ],
   "source": [
    "file_re = os.path.join('./qm92', '*.xyz')\n",
    "file_pathes = glob.glob(file_re)\n",
    "file_pathes.sort()\n",
    "ls = []\n",
    "_smiles_column_names = ['smiles1', 'smiles2']\n",
    "_label_names = ['A', 'B', 'C', 'mu', 'alpha', 'homo', 'lumo', 'gap', 'r2',\n",
    "                'zpve', 'U0', 'U', 'H', 'G', 'Cv']\n",
    "\n",
    "y = []\n",
    "for ix,path in enumerate(tqdm(file_pathes)):\n",
    "    with open(path, 'r') as f:\n",
    "        data = [line.strip() for line in f]\n",
    "        \n",
    "    num_atom = int(data[0])\n",
    "    # We're only interested in molecules with 3 or more molecules\n",
    "    if num_atom < 3:\n",
    "        continue\n",
    "    properties = list(map(float, data[1].split('\\t')[1:]))\n",
    "    ys = []\n",
    "    for ix_pos in range(2,num_atom+2):\n",
    "        if not data[ix_pos][0] == 'H':\n",
    "            ys.append(list(map(float, data[ix_pos].replace('*^', 'e').split('\\t')[1:]))[:3])\n",
    "\n",
    "    if len(ys) < 3:\n",
    "        continue\n",
    "    y.append(ys)\n",
    "\n",
    "    smiles = data[3 + num_atom].split('\\t')\n",
    "    new_ls = smiles + properties\n",
    "    ls.append(new_ls)\n",
    "\n",
    "df = pd.DataFrame(ls, columns= _smiles_column_names + _label_names)"
   ]
  },
  {
   "cell_type": "code",
   "execution_count": 149,
   "metadata": {
    "scrolled": true
   },
   "outputs": [
    {
     "data": {
      "text/html": [
       "<div>\n",
       "<style scoped>\n",
       "    .dataframe tbody tr th:only-of-type {\n",
       "        vertical-align: middle;\n",
       "    }\n",
       "\n",
       "    .dataframe tbody tr th {\n",
       "        vertical-align: top;\n",
       "    }\n",
       "\n",
       "    .dataframe thead th {\n",
       "        text-align: right;\n",
       "    }\n",
       "</style>\n",
       "<table border=\"1\" class=\"dataframe\">\n",
       "  <thead>\n",
       "    <tr style=\"text-align: right;\">\n",
       "      <th></th>\n",
       "      <th>smiles1</th>\n",
       "      <th>smiles2</th>\n",
       "      <th>A</th>\n",
       "      <th>B</th>\n",
       "      <th>C</th>\n",
       "      <th>mu</th>\n",
       "      <th>alpha</th>\n",
       "      <th>homo</th>\n",
       "      <th>lumo</th>\n",
       "      <th>gap</th>\n",
       "      <th>r2</th>\n",
       "      <th>zpve</th>\n",
       "      <th>U0</th>\n",
       "      <th>U</th>\n",
       "      <th>H</th>\n",
       "      <th>G</th>\n",
       "      <th>Cv</th>\n",
       "    </tr>\n",
       "  </thead>\n",
       "  <tbody>\n",
       "    <tr>\n",
       "      <th>30819</th>\n",
       "      <td>CCC1=C(O)C=C(N)O1</td>\n",
       "      <td>CCc1c(O)cc(N)o1</td>\n",
       "      <td>2.26655</td>\n",
       "      <td>1.36672</td>\n",
       "      <td>0.89989</td>\n",
       "      <td>2.4617</td>\n",
       "      <td>77.60</td>\n",
       "      <td>-0.1693</td>\n",
       "      <td>0.0457</td>\n",
       "      <td>0.2151</td>\n",
       "      <td>1300.6028</td>\n",
       "      <td>0.146661</td>\n",
       "      <td>-439.115053</td>\n",
       "      <td>-439.105337</td>\n",
       "      <td>-439.104393</td>\n",
       "      <td>-439.149867</td>\n",
       "      <td>35.128</td>\n",
       "    </tr>\n",
       "    <tr>\n",
       "      <th>95160</th>\n",
       "      <td>CC1COC2CC2(C)O1</td>\n",
       "      <td>C[C@H]1CO[C@H]2C[C@@]2(C)O1</td>\n",
       "      <td>2.50131</td>\n",
       "      <td>1.55394</td>\n",
       "      <td>1.13491</td>\n",
       "      <td>0.6025</td>\n",
       "      <td>78.69</td>\n",
       "      <td>-0.2249</td>\n",
       "      <td>0.0833</td>\n",
       "      <td>0.3082</td>\n",
       "      <td>1160.8802</td>\n",
       "      <td>0.181624</td>\n",
       "      <td>-424.212783</td>\n",
       "      <td>-424.203893</td>\n",
       "      <td>-424.202949</td>\n",
       "      <td>-424.245864</td>\n",
       "      <td>34.607</td>\n",
       "    </tr>\n",
       "    <tr>\n",
       "      <th>91502</th>\n",
       "      <td>CC1CC2CC12C(C)=O</td>\n",
       "      <td>C[C@H]1C[C@H]2C[C@@]12C(=O)C</td>\n",
       "      <td>2.43643</td>\n",
       "      <td>1.41314</td>\n",
       "      <td>1.09871</td>\n",
       "      <td>2.8781</td>\n",
       "      <td>83.69</td>\n",
       "      <td>-0.2356</td>\n",
       "      <td>-0.0105</td>\n",
       "      <td>0.2251</td>\n",
       "      <td>1203.5310</td>\n",
       "      <td>0.181090</td>\n",
       "      <td>-387.094134</td>\n",
       "      <td>-387.084762</td>\n",
       "      <td>-387.083818</td>\n",
       "      <td>-387.128374</td>\n",
       "      <td>35.243</td>\n",
       "    </tr>\n",
       "    <tr>\n",
       "      <th>59371</th>\n",
       "      <td>CC(O)C1CC(O1)C#C</td>\n",
       "      <td>C[C@@H](O)[C@H]1C[C@@H](O1)C#C</td>\n",
       "      <td>4.34364</td>\n",
       "      <td>0.88978</td>\n",
       "      <td>0.84662</td>\n",
       "      <td>1.2779</td>\n",
       "      <td>78.24</td>\n",
       "      <td>-0.2596</td>\n",
       "      <td>0.0176</td>\n",
       "      <td>0.2773</td>\n",
       "      <td>1414.6481</td>\n",
       "      <td>0.157097</td>\n",
       "      <td>-422.974569</td>\n",
       "      <td>-422.965105</td>\n",
       "      <td>-422.964161</td>\n",
       "      <td>-423.009265</td>\n",
       "      <td>35.136</td>\n",
       "    </tr>\n",
       "    <tr>\n",
       "      <th>19960</th>\n",
       "      <td>CC1COC1C1CN1</td>\n",
       "      <td>C[C@H]1CO[C@H]1[C@H]1CN1</td>\n",
       "      <td>3.43958</td>\n",
       "      <td>1.73584</td>\n",
       "      <td>1.41605</td>\n",
       "      <td>2.0377</td>\n",
       "      <td>70.53</td>\n",
       "      <td>-0.2407</td>\n",
       "      <td>0.0733</td>\n",
       "      <td>0.3140</td>\n",
       "      <td>950.5804</td>\n",
       "      <td>0.166501</td>\n",
       "      <td>-365.016298</td>\n",
       "      <td>-365.008323</td>\n",
       "      <td>-365.007379</td>\n",
       "      <td>-365.048946</td>\n",
       "      <td>29.435</td>\n",
       "    </tr>\n",
       "  </tbody>\n",
       "</table>\n",
       "</div>"
      ],
      "text/plain": [
       "                 smiles1                         smiles2        A        B  \\\n",
       "30819  CCC1=C(O)C=C(N)O1                 CCc1c(O)cc(N)o1  2.26655  1.36672   \n",
       "95160    CC1COC2CC2(C)O1     C[C@H]1CO[C@H]2C[C@@]2(C)O1  2.50131  1.55394   \n",
       "91502   CC1CC2CC12C(C)=O    C[C@H]1C[C@H]2C[C@@]12C(=O)C  2.43643  1.41314   \n",
       "59371   CC(O)C1CC(O1)C#C  C[C@@H](O)[C@H]1C[C@@H](O1)C#C  4.34364  0.88978   \n",
       "19960       CC1COC1C1CN1        C[C@H]1CO[C@H]1[C@H]1CN1  3.43958  1.73584   \n",
       "\n",
       "             C      mu  alpha    homo    lumo     gap         r2      zpve  \\\n",
       "30819  0.89989  2.4617  77.60 -0.1693  0.0457  0.2151  1300.6028  0.146661   \n",
       "95160  1.13491  0.6025  78.69 -0.2249  0.0833  0.3082  1160.8802  0.181624   \n",
       "91502  1.09871  2.8781  83.69 -0.2356 -0.0105  0.2251  1203.5310  0.181090   \n",
       "59371  0.84662  1.2779  78.24 -0.2596  0.0176  0.2773  1414.6481  0.157097   \n",
       "19960  1.41605  2.0377  70.53 -0.2407  0.0733  0.3140   950.5804  0.166501   \n",
       "\n",
       "               U0           U           H           G      Cv  \n",
       "30819 -439.115053 -439.105337 -439.104393 -439.149867  35.128  \n",
       "95160 -424.212783 -424.203893 -424.202949 -424.245864  34.607  \n",
       "91502 -387.094134 -387.084762 -387.083818 -387.128374  35.243  \n",
       "59371 -422.974569 -422.965105 -422.964161 -423.009265  35.136  \n",
       "19960 -365.016298 -365.008323 -365.007379 -365.048946  29.435  "
      ]
     },
     "execution_count": 149,
     "metadata": {},
     "output_type": "execute_result"
    }
   ],
   "source": [
    "df.sample(5)"
   ]
  },
  {
   "cell_type": "code",
   "execution_count": 150,
   "metadata": {},
   "outputs": [
    {
     "data": {
      "text/plain": [
       "smiles1     OC1=CNC=C1\n",
       "smiles2    Oc1c[nH]cc1\n",
       "A              8.97547\n",
       "B              3.51643\n",
       "C              2.52657\n",
       "mu              1.6811\n",
       "alpha            47.51\n",
       "homo           -0.1864\n",
       "lumo              0.05\n",
       "gap             0.2364\n",
       "r2             480.403\n",
       "zpve          0.086407\n",
       "U0            -285.316\n",
       "U             -285.311\n",
       "H              -285.31\n",
       "G             -285.345\n",
       "Cv              19.995\n",
       "Name: 200, dtype: object"
      ]
     },
     "execution_count": 150,
     "metadata": {},
     "output_type": "execute_result"
    }
   ],
   "source": [
    "df.loc[200]"
   ]
  },
  {
   "cell_type": "markdown",
   "metadata": {},
   "source": [
    "# Setting up dataset"
   ]
  },
  {
   "cell_type": "markdown",
   "metadata": {},
   "source": [
    "The first thing we want to do is to find a way of representing a molecule to our graph convolutional network. For this, we will make use of DeepChem which provides a number of 'featurizers'. In this case the features of an atom is a number of descriptors generated from RDKit."
   ]
  },
  {
   "cell_type": "code",
   "execution_count": 151,
   "metadata": {},
   "outputs": [],
   "source": [
    "mols = [MolFromSmiles(row.smiles1) for (ix,row) in df.iterrows()]"
   ]
  },
  {
   "cell_type": "markdown",
   "metadata": {},
   "source": [
    "### Adding Fingerprints to the mix"
   ]
  },
  {
   "cell_type": "code",
   "execution_count": 152,
   "metadata": {},
   "outputs": [],
   "source": [
    "from rdkit.Chem import AllChem\n",
    "fingerprints = []\n",
    "for m in mols:\n",
    "    fp1 = AllChem.GetMorganFingerprintAsBitVect(m, useChirality=True, radius=2, nBits=1024)\n",
    "    vec1 = np.array(fp1);\n",
    "    fingerprints.append(vec1)"
   ]
  },
  {
   "cell_type": "markdown",
   "metadata": {},
   "source": [
    "### Looking at graph representations"
   ]
  },
  {
   "cell_type": "code",
   "execution_count": 153,
   "metadata": {},
   "outputs": [],
   "source": [
    "import networkx as nx\n",
    "\n",
    "def create_edge_index(A):\n",
    "    rows = []\n",
    "    cols = []\n",
    "    for i in range(A.shape[0]):\n",
    "        for j in range(A.shape[0]):\n",
    "            if A[i,j] == 1:\n",
    "                rows.append(i)\n",
    "                cols.append(j)\n",
    "    return rows, cols\n",
    "\n",
    "def get_molecule_features(m):\n",
    "    featurizer = ConvMolFeaturizer()\n",
    "    return featurizer.featurize([m])[0].get_atom_features()"
   ]
  },
  {
   "cell_type": "code",
   "execution_count": 154,
   "metadata": {},
   "outputs": [],
   "source": [
    "from deepchem.feat import RDKitDescriptors, ConvMolFeaturizer\n",
    "from rdkit.Chem.rdmolops import GetAdjacencyMatrix\n",
    "\n",
    "m = mols[200]\n",
    "molecule_featurized = get_molecule_features(m)\n",
    "A = GetAdjacencyMatrix(m)"
   ]
  },
  {
   "cell_type": "code",
   "execution_count": 155,
   "metadata": {},
   "outputs": [
    {
     "data": {
      "text/plain": [
       "['O', 'C', 'C', 'N', 'C', 'C']"
      ]
     },
     "execution_count": 155,
     "metadata": {},
     "output_type": "execute_result"
    }
   ],
   "source": [
    "atomlist = [at.GetSymbol() for at in m.GetAtoms()]\n",
    "atomlist"
   ]
  },
  {
   "cell_type": "markdown",
   "metadata": {},
   "source": [
    "Let's see how our adjacency matrix looks. This matrix will be used in our graph convolutions."
   ]
  },
  {
   "cell_type": "code",
   "execution_count": 156,
   "metadata": {
    "scrolled": true
   },
   "outputs": [
    {
     "data": {
      "image/png": "[encoded data removed]",
      "text/plain": [
       "<Figure size 432x288 with 1 Axes>"
      ]
     },
     "metadata": {},
     "output_type": "display_data"
    }
   ],
   "source": [
    "D = nx.to_networkx_graph(A,create_using=nx.DiGraph())\n",
    "nx.draw(D)"
   ]
  },
  {
   "cell_type": "markdown",
   "metadata": {},
   "source": [
    "Let's see how the molecule looks in 2D according to RDKit"
   ]
  },
  {
   "cell_type": "code",
   "execution_count": 157,
   "metadata": {},
   "outputs": [
    {
     "data": {
      "image/png": "[encoded data removed]",
      "text/plain": [
       "<rdkit.Chem.rdchem.Mol at 0x7f17f0daa800>"
      ]
     },
     "execution_count": 157,
     "metadata": {},
     "output_type": "execute_result"
    }
   ],
   "source": [
    "from rdkit.Chem import Draw\n",
    "from rdkit.Chem.AllChem import Compute2DCoords\n",
    "from rdkit.Chem.Draw import IPythonConsole\n",
    "m"
   ]
  },
  {
   "cell_type": "markdown",
   "metadata": {},
   "source": [
    "Let's repeat this for all molecules"
   ]
  },
  {
   "cell_type": "code",
   "execution_count": 158,
   "metadata": {},
   "outputs": [],
   "source": [
    "import os.path\n",
    "import pickle\n",
    "from torch_geometric.data import Data, DataLoader\n",
    "from torchvision import transforms\n",
    "\n",
    "if True:\n",
    "    data_list = []\n",
    "    for ix, m in enumerate(mols):\n",
    "        mol_featurized = get_molecule_features(m)\n",
    "        A = GetAdjacencyMatrix(m)\n",
    "        edge_index = create_edge_index(A)\n",
    "        x = torch.tensor(mol_featurized)\n",
    "        #x_min = torch.min(x)\n",
    "        #range_x = torch.max(x) - torch.min(x)\n",
    "        #x = (x - x_min) / range_x\n",
    "        if not x.shape[0] == torch.DoubleTensor(y[ix]).shape[0]:\n",
    "            print(\"Unmatching x and y!\")\n",
    "            print(x.shape)\n",
    "            print(torch.DoubleTensor(y[ix]).shape)\n",
    "            break\n",
    "        d = Data(x=x, edge_index=torch.LongTensor(edge_index), y=torch.DoubleTensor(y[ix]))\n",
    "        d.fingerprint = fingerprints[ix]\n",
    "        d.atom_list = [at.GetSymbol() for at in m.GetAtoms()]\n",
    "        data_list.append(d)\n",
    "        \n",
    "    with open('data_list.pickle', 'wb') as f:\n",
    "        pickle.dump(data_list, f)\n",
    "else:\n",
    "    with open('data_list.pickle', 'rb') as f:\n",
    "        data_list = pickle.load(f)"
   ]
  },
  {
   "cell_type": "code",
   "execution_count": 159,
   "metadata": {},
   "outputs": [],
   "source": [
    "loader = DataLoader(data_list, batch_size=32)"
   ]
  },
  {
   "cell_type": "markdown",
   "metadata": {},
   "source": [
    "# Setting Up Graph Convolutional Network"
   ]
  },
  {
   "cell_type": "code",
   "execution_count": 160,
   "metadata": {},
   "outputs": [],
   "source": [
    "from torch_geometric.nn import GCNConv, BatchNorm, GMMConv, SAGEConv, GraphConv, GATConv\n",
    "from torch_geometric.nn.pool import TopKPooling, EdgePooling, SAGPooling\n",
    "from torch import nn\n",
    "\n",
    "class Net(torch.nn.Module):\n",
    "    def __init__(self):\n",
    "        super(Net, self).__init__()\n",
    "        self.conv1 = GraphConv(75, 256)\n",
    "        self.conv2 = GraphConv(256, 256)\n",
    "        self.batch_norm1 = BatchNorm(256)\n",
    "        self.linear = nn.Linear(256, 128)\n",
    "        self.linear2 = nn.Linear(1152, 3)\n",
    "\n",
    "    def forward(self, data):\n",
    "        x, edge_index = data.x, data.edge_index\n",
    "        x = self.conv1(x, edge_index)\n",
    "        x = F.relu(x)\n",
    "        x = self.batch_norm1(x)\n",
    "        \n",
    "        x = self.conv2(x, edge_index)\n",
    "        x = F.relu(x)\n",
    "        x = self.batch_norm1(x)\n",
    "        \n",
    "        x = self.conv2(x, edge_index)\n",
    "        x = F.relu(x)\n",
    "        x = self.batch_norm1(x)\n",
    "        \n",
    "        x = self.linear(x)\n",
    "        \n",
    "        outs = []\n",
    "        fp = torch.DoubleTensor(data.fingerprint).to(device)\n",
    "        for row_ix in range(x.shape[0]):\n",
    "            z = torch.cat((x[row_ix,:], fp), 0)\n",
    "            outs.append(self.linear2(z))\n",
    "        \n",
    "        return torch.stack(outs)"
   ]
  },
  {
   "cell_type": "code",
   "execution_count": 161,
   "metadata": {},
   "outputs": [],
   "source": [
    "device = torch.device('cuda' if torch.cuda.is_available() else 'cpu')\n",
    "model = Net().to(device)\n",
    "data = loader.dataset[0].to(device)\n",
    "optimizer = torch.optim.Adam(model.parameters(), lr=0.001, weight_decay=5e-4)"
   ]
  },
  {
   "cell_type": "code",
   "execution_count": 162,
   "metadata": {},
   "outputs": [],
   "source": [
    "def chunks(lst, n):\n",
    "    \"\"\"Yield successive n-sized chunks from lst.\"\"\"\n",
    "    for i in range(0, len(lst), n):\n",
    "        yield lst[i:i + n]"
   ]
  },
  {
   "cell_type": "code",
   "execution_count": 163,
   "metadata": {},
   "outputs": [
    {
     "data": {
      "text/plain": [
       "Net(\n",
       "  (conv1): GraphConv(75, 256)\n",
       "  (conv2): GraphConv(256, 256)\n",
       "  (batch_norm1): BatchNorm(256, eps=1e-05, momentum=0.1, affine=True, track_running_stats=True)\n",
       "  (linear): Linear(in_features=256, out_features=128, bias=True)\n",
       "  (linear2): Linear(in_features=1152, out_features=3, bias=True)\n",
       ")"
      ]
     },
     "execution_count": 163,
     "metadata": {},
     "output_type": "execute_result"
    }
   ],
   "source": [
    "#import random\n",
    "#random.shuffle(loader.dataset)\n",
    "N = len(loader.dataset)\n",
    "num_train = 1000\n",
    "X_train = loader.dataset[:num_train]\n",
    "X_val = loader.dataset[num_train:num_train+100]\n",
    "batch_size = 128\n",
    "X_train_batched = chunks(X_train, len(X_train) // batch_size)\n",
    "model.double()"
   ]
  },
  {
   "cell_type": "code",
   "execution_count": 164,
   "metadata": {
    "scrolled": true
   },
   "outputs": [
    {
     "name": "stderr",
     "output_type": "stream",
     "text": [
      "100%|██████████| 7/7 [00:00<00:00, 50.44it/s]\n",
      "  0%|          | 0/7 [00:00<?, ?it/s]"
     ]
    },
    {
     "name": "stdout",
     "output_type": "stream",
     "text": [
      "===== Epoch 1 of 100 ====\n",
      "<generator object chunks at 0x7f17e8177150>\n",
      "Training loss: 0.7238\n",
      "===== Epoch 2 of 100 ====\n",
      "<generator object chunks at 0x7f17e8060570>\n"
     ]
    },
    {
     "name": "stderr",
     "output_type": "stream",
     "text": [
      "100%|██████████| 7/7 [00:00<00:00, 61.15it/s]\n",
      "100%|██████████| 7/7 [00:00<00:00, 61.34it/s]\n",
      "  0%|          | 0/7 [00:00<?, ?it/s]"
     ]
    },
    {
     "name": "stdout",
     "output_type": "stream",
     "text": [
      "Training loss: 0.5052\n",
      "===== Epoch 3 of 100 ====\n",
      "<generator object chunks at 0x7f17e8177150>\n",
      "Training loss: 0.4147\n",
      "===== Epoch 4 of 100 ====\n",
      "<generator object chunks at 0x7f17e8060570>\n"
     ]
    },
    {
     "name": "stderr",
     "output_type": "stream",
     "text": [
      "100%|██████████| 7/7 [00:00<00:00, 60.81it/s]\n",
      "100%|██████████| 7/7 [00:00<00:00, 60.36it/s]\n",
      "  0%|          | 0/7 [00:00<?, ?it/s]"
     ]
    },
    {
     "name": "stdout",
     "output_type": "stream",
     "text": [
      "Training loss: 0.3383\n",
      "===== Epoch 5 of 100 ====\n",
      "<generator object chunks at 0x7f17e8177150>\n",
      "Training loss: 0.2912\n",
      "===== Epoch 6 of 100 ====\n",
      "<generator object chunks at 0x7f17e8060570>\n"
     ]
    },
    {
     "name": "stderr",
     "output_type": "stream",
     "text": [
      "100%|██████████| 7/7 [00:00<00:00, 60.93it/s]\n",
      "100%|██████████| 7/7 [00:00<00:00, 60.45it/s]\n",
      "  0%|          | 0/7 [00:00<?, ?it/s]"
     ]
    },
    {
     "name": "stdout",
     "output_type": "stream",
     "text": [
      "Training loss: 0.2563\n",
      "===== Epoch 7 of 100 ====\n",
      "<generator object chunks at 0x7f17e8177150>\n",
      "Training loss: 0.2359\n",
      "===== Epoch 8 of 100 ====\n",
      "<generator object chunks at 0x7f17e8060570>\n"
     ]
    },
    {
     "name": "stderr",
     "output_type": "stream",
     "text": [
      "100%|██████████| 7/7 [00:00<00:00, 60.60it/s]\n",
      "100%|██████████| 7/7 [00:00<00:00, 60.97it/s]\n",
      "  0%|          | 0/7 [00:00<?, ?it/s]"
     ]
    },
    {
     "name": "stdout",
     "output_type": "stream",
     "text": [
      "Training loss: 0.2215\n",
      "===== Epoch 9 of 100 ====\n",
      "<generator object chunks at 0x7f17e8177150>\n",
      "Training loss: 0.2248\n",
      "===== Epoch 10 of 100 ====\n",
      "<generator object chunks at 0x7f17e8060570>\n"
     ]
    },
    {
     "name": "stderr",
     "output_type": "stream",
     "text": [
      "100%|██████████| 7/7 [00:00<00:00, 60.60it/s]\n",
      "100%|██████████| 7/7 [00:00<00:00, 60.67it/s]\n",
      "  0%|          | 0/7 [00:00<?, ?it/s]"
     ]
    },
    {
     "name": "stdout",
     "output_type": "stream",
     "text": [
      "Training loss: 0.2472\n",
      "===== Epoch 11 of 100 ====\n",
      "<generator object chunks at 0x7f17e8177150>\n",
      "Training loss: 0.2482\n",
      "===== Epoch 12 of 100 ====\n",
      "<generator object chunks at 0x7f17e8060570>\n"
     ]
    },
    {
     "name": "stderr",
     "output_type": "stream",
     "text": [
      "100%|██████████| 7/7 [00:00<00:00, 60.64it/s]\n",
      "100%|██████████| 7/7 [00:00<00:00, 60.71it/s]\n",
      "  0%|          | 0/7 [00:00<?, ?it/s]"
     ]
    },
    {
     "name": "stdout",
     "output_type": "stream",
     "text": [
      "Training loss: 0.2560\n",
      "===== Epoch 13 of 100 ====\n",
      "<generator object chunks at 0x7f17e8177150>\n",
      "Training loss: 0.2354\n",
      "===== Epoch 14 of 100 ====\n",
      "<generator object chunks at 0x7f17e8060570>\n"
     ]
    },
    {
     "name": "stderr",
     "output_type": "stream",
     "text": [
      "100%|██████████| 7/7 [00:00<00:00, 60.39it/s]\n",
      "100%|██████████| 7/7 [00:00<00:00, 60.51it/s]\n",
      "  0%|          | 0/7 [00:00<?, ?it/s]"
     ]
    },
    {
     "name": "stdout",
     "output_type": "stream",
     "text": [
      "Training loss: 0.2006\n",
      "===== Epoch 15 of 100 ====\n",
      "<generator object chunks at 0x7f17e8177150>\n",
      "Training loss: 0.1864\n",
      "===== Epoch 16 of 100 ====\n",
      "<generator object chunks at 0x7f17e8060570>\n"
     ]
    },
    {
     "name": "stderr",
     "output_type": "stream",
     "text": [
      "100%|██████████| 7/7 [00:00<00:00, 60.21it/s]\n",
      "100%|██████████| 7/7 [00:00<00:00, 60.51it/s]\n",
      "  0%|          | 0/7 [00:00<?, ?it/s]"
     ]
    },
    {
     "name": "stdout",
     "output_type": "stream",
     "text": [
      "Training loss: 0.1745\n",
      "===== Epoch 17 of 100 ====\n",
      "<generator object chunks at 0x7f188a8a41a8>\n",
      "Training loss: 0.1748\n",
      "===== Epoch 18 of 100 ====\n",
      "<generator object chunks at 0x7f17e8060570>\n"
     ]
    },
    {
     "name": "stderr",
     "output_type": "stream",
     "text": [
      "100%|██████████| 7/7 [00:00<00:00, 60.42it/s]\n",
      "100%|██████████| 7/7 [00:00<00:00, 60.75it/s]\n",
      "  0%|          | 0/7 [00:00<?, ?it/s]"
     ]
    },
    {
     "name": "stdout",
     "output_type": "stream",
     "text": [
      "Training loss: 0.1718\n",
      "===== Epoch 19 of 100 ====\n",
      "<generator object chunks at 0x7f188a8a41a8>\n",
      "Training loss: 0.1720\n",
      "===== Epoch 20 of 100 ====\n",
      "<generator object chunks at 0x7f17e8060570>\n"
     ]
    },
    {
     "name": "stderr",
     "output_type": "stream",
     "text": [
      "100%|██████████| 7/7 [00:00<00:00, 60.65it/s]\n",
      "100%|██████████| 7/7 [00:00<00:00, 60.83it/s]\n",
      "  0%|          | 0/7 [00:00<?, ?it/s]"
     ]
    },
    {
     "name": "stdout",
     "output_type": "stream",
     "text": [
      "Training loss: 0.1715\n",
      "===== Epoch 21 of 100 ====\n",
      "<generator object chunks at 0x7f188a8a41a8>\n",
      "Training loss: 0.1544\n",
      "===== Epoch 22 of 100 ====\n",
      "<generator object chunks at 0x7f17e8060570>\n"
     ]
    },
    {
     "name": "stderr",
     "output_type": "stream",
     "text": [
      "100%|██████████| 7/7 [00:00<00:00, 60.59it/s]\n",
      "100%|██████████| 7/7 [00:00<00:00, 60.70it/s]\n",
      "  0%|          | 0/7 [00:00<?, ?it/s]"
     ]
    },
    {
     "name": "stdout",
     "output_type": "stream",
     "text": [
      "Training loss: 0.1457\n",
      "===== Epoch 23 of 100 ====\n",
      "<generator object chunks at 0x7f188a8a41a8>\n",
      "Training loss: 0.1349\n",
      "===== Epoch 24 of 100 ====\n",
      "<generator object chunks at 0x7f17e8060570>\n"
     ]
    },
    {
     "name": "stderr",
     "output_type": "stream",
     "text": [
      "100%|██████████| 7/7 [00:00<00:00, 60.40it/s]\n",
      "100%|██████████| 7/7 [00:00<00:00, 60.53it/s]\n",
      "  0%|          | 0/7 [00:00<?, ?it/s]"
     ]
    },
    {
     "name": "stdout",
     "output_type": "stream",
     "text": [
      "Training loss: 0.1299\n",
      "===== Epoch 25 of 100 ====\n",
      "<generator object chunks at 0x7f188a8a41a8>\n",
      "Training loss: 0.1256\n",
      "===== Epoch 26 of 100 ====\n",
      "<generator object chunks at 0x7f17e8060570>\n"
     ]
    },
    {
     "name": "stderr",
     "output_type": "stream",
     "text": [
      "100%|██████████| 7/7 [00:00<00:00, 59.99it/s]\n",
      "100%|██████████| 7/7 [00:00<00:00, 60.54it/s]\n",
      "  0%|          | 0/7 [00:00<?, ?it/s]"
     ]
    },
    {
     "name": "stdout",
     "output_type": "stream",
     "text": [
      "Training loss: 0.1214\n",
      "===== Epoch 27 of 100 ====\n",
      "<generator object chunks at 0x7f188a8a41a8>\n",
      "Training loss: 0.1189\n",
      "===== Epoch 28 of 100 ====\n",
      "<generator object chunks at 0x7f17e8060570>\n"
     ]
    },
    {
     "name": "stderr",
     "output_type": "stream",
     "text": [
      "100%|██████████| 7/7 [00:00<00:00, 59.96it/s]\n",
      "100%|██████████| 7/7 [00:00<00:00, 60.73it/s]\n",
      "  0%|          | 0/7 [00:00<?, ?it/s]"
     ]
    },
    {
     "name": "stdout",
     "output_type": "stream",
     "text": [
      "Training loss: 0.1170\n",
      "===== Epoch 29 of 100 ====\n",
      "<generator object chunks at 0x7f188a8a41a8>\n",
      "Training loss: 0.1130\n",
      "===== Epoch 30 of 100 ====\n",
      "<generator object chunks at 0x7f17e8060570>\n"
     ]
    },
    {
     "name": "stderr",
     "output_type": "stream",
     "text": [
      "100%|██████████| 7/7 [00:00<00:00, 60.06it/s]\n",
      "100%|██████████| 7/7 [00:00<00:00, 60.74it/s]\n",
      "  0%|          | 0/7 [00:00<?, ?it/s]"
     ]
    },
    {
     "name": "stdout",
     "output_type": "stream",
     "text": [
      "Training loss: 0.1097\n",
      "===== Epoch 31 of 100 ====\n",
      "<generator object chunks at 0x7f188a8a41a8>\n",
      "Training loss: 0.1077\n",
      "===== Epoch 32 of 100 ====\n",
      "<generator object chunks at 0x7f17e8060570>\n"
     ]
    },
    {
     "name": "stderr",
     "output_type": "stream",
     "text": [
      "100%|██████████| 7/7 [00:00<00:00, 60.14it/s]\n",
      "100%|██████████| 7/7 [00:00<00:00, 60.08it/s]\n",
      "  0%|          | 0/7 [00:00<?, ?it/s]"
     ]
    },
    {
     "name": "stdout",
     "output_type": "stream",
     "text": [
      "Training loss: 0.1040\n",
      "===== Epoch 33 of 100 ====\n",
      "<generator object chunks at 0x7f188a8a41a8>\n",
      "Training loss: 0.1012\n",
      "===== Epoch 34 of 100 ====\n",
      "<generator object chunks at 0x7f17e8060570>\n"
     ]
    },
    {
     "name": "stderr",
     "output_type": "stream",
     "text": [
      "100%|██████████| 7/7 [00:00<00:00, 59.86it/s]\n",
      "100%|██████████| 7/7 [00:00<00:00, 60.18it/s]\n",
      "  0%|          | 0/7 [00:00<?, ?it/s]"
     ]
    },
    {
     "name": "stdout",
     "output_type": "stream",
     "text": [
      "Training loss: 0.0992\n",
      "===== Epoch 35 of 100 ====\n",
      "<generator object chunks at 0x7f188a8a41a8>\n",
      "Training loss: 0.0974\n",
      "===== Epoch 36 of 100 ====\n",
      "<generator object chunks at 0x7f17e8060570>\n"
     ]
    },
    {
     "name": "stderr",
     "output_type": "stream",
     "text": [
      "100%|██████████| 7/7 [00:00<00:00, 59.89it/s]\n",
      "100%|██████████| 7/7 [00:00<00:00, 60.10it/s]\n",
      "  0%|          | 0/7 [00:00<?, ?it/s]"
     ]
    },
    {
     "name": "stdout",
     "output_type": "stream",
     "text": [
      "Training loss: 0.0957\n",
      "===== Epoch 37 of 100 ====\n",
      "<generator object chunks at 0x7f188a8a41a8>\n",
      "Training loss: 0.0938\n",
      "===== Epoch 38 of 100 ====\n",
      "<generator object chunks at 0x7f17e8060570>\n"
     ]
    },
    {
     "name": "stderr",
     "output_type": "stream",
     "text": [
      "100%|██████████| 7/7 [00:00<00:00, 60.06it/s]\n",
      "100%|██████████| 7/7 [00:00<00:00, 60.88it/s]\n",
      "  0%|          | 0/7 [00:00<?, ?it/s]"
     ]
    },
    {
     "name": "stdout",
     "output_type": "stream",
     "text": [
      "Training loss: 0.0920\n",
      "===== Epoch 39 of 100 ====\n",
      "<generator object chunks at 0x7f188a8a41a8>\n",
      "Training loss: 0.0902\n",
      "===== Epoch 40 of 100 ====\n",
      "<generator object chunks at 0x7f17e8060570>\n"
     ]
    },
    {
     "name": "stderr",
     "output_type": "stream",
     "text": [
      "100%|██████████| 7/7 [00:00<00:00, 60.19it/s]\n",
      "100%|██████████| 7/7 [00:00<00:00, 61.16it/s]\n",
      "  0%|          | 0/7 [00:00<?, ?it/s]"
     ]
    },
    {
     "name": "stdout",
     "output_type": "stream",
     "text": [
      "Training loss: 0.0886\n",
      "===== Epoch 41 of 100 ====\n",
      "<generator object chunks at 0x7f188a8a41a8>\n",
      "Training loss: 0.0870\n",
      "===== Epoch 42 of 100 ====\n",
      "<generator object chunks at 0x7f17e8060570>\n"
     ]
    },
    {
     "name": "stderr",
     "output_type": "stream",
     "text": [
      "100%|██████████| 7/7 [00:00<00:00, 60.19it/s]\n",
      "100%|██████████| 7/7 [00:00<00:00, 60.38it/s]\n",
      "  0%|          | 0/7 [00:00<?, ?it/s]"
     ]
    },
    {
     "name": "stdout",
     "output_type": "stream",
     "text": [
      "Training loss: 0.0858\n",
      "===== Epoch 43 of 100 ====\n",
      "<generator object chunks at 0x7f188a8a41a8>\n",
      "Training loss: 0.0845\n",
      "===== Epoch 44 of 100 ====\n",
      "<generator object chunks at 0x7f17e8060570>\n"
     ]
    },
    {
     "name": "stderr",
     "output_type": "stream",
     "text": [
      "100%|██████████| 7/7 [00:00<00:00, 60.12it/s]\n",
      "100%|██████████| 7/7 [00:00<00:00, 60.31it/s]\n",
      "  0%|          | 0/7 [00:00<?, ?it/s]"
     ]
    },
    {
     "name": "stdout",
     "output_type": "stream",
     "text": [
      "Training loss: 0.0830\n",
      "===== Epoch 45 of 100 ====\n",
      "<generator object chunks at 0x7f188a8a41a8>\n",
      "Training loss: 0.0818\n",
      "===== Epoch 46 of 100 ====\n",
      "<generator object chunks at 0x7f17e8060570>\n"
     ]
    },
    {
     "name": "stderr",
     "output_type": "stream",
     "text": [
      "100%|██████████| 7/7 [00:00<00:00, 60.02it/s]\n",
      "100%|██████████| 7/7 [00:00<00:00, 60.16it/s]\n",
      "  0%|          | 0/7 [00:00<?, ?it/s]"
     ]
    },
    {
     "name": "stdout",
     "output_type": "stream",
     "text": [
      "Training loss: 0.0807\n",
      "===== Epoch 47 of 100 ====\n",
      "<generator object chunks at 0x7f188a8a41a8>\n",
      "Training loss: 0.0800\n",
      "===== Epoch 48 of 100 ====\n",
      "<generator object chunks at 0x7f17e8060570>\n"
     ]
    },
    {
     "name": "stderr",
     "output_type": "stream",
     "text": [
      "100%|██████████| 7/7 [00:00<00:00, 59.98it/s]\n",
      "100%|██████████| 7/7 [00:00<00:00, 60.29it/s]\n",
      "  0%|          | 0/7 [00:00<?, ?it/s]"
     ]
    },
    {
     "name": "stdout",
     "output_type": "stream",
     "text": [
      "Training loss: 0.0788\n",
      "===== Epoch 49 of 100 ====\n",
      "<generator object chunks at 0x7f188a8a41a8>\n",
      "Training loss: 0.0775\n",
      "===== Epoch 50 of 100 ====\n",
      "<generator object chunks at 0x7f17e8060570>\n"
     ]
    },
    {
     "name": "stderr",
     "output_type": "stream",
     "text": [
      "100%|██████████| 7/7 [00:00<00:00, 60.21it/s]\n",
      "100%|██████████| 7/7 [00:00<00:00, 60.60it/s]\n",
      "  0%|          | 0/7 [00:00<?, ?it/s]"
     ]
    },
    {
     "name": "stdout",
     "output_type": "stream",
     "text": [
      "Training loss: 0.0765\n",
      "===== Epoch 51 of 100 ====\n",
      "<generator object chunks at 0x7f188a8a41a8>\n",
      "Training loss: 0.0762\n",
      "===== Epoch 52 of 100 ====\n",
      "<generator object chunks at 0x7f17e8060570>\n"
     ]
    },
    {
     "name": "stderr",
     "output_type": "stream",
     "text": [
      "100%|██████████| 7/7 [00:00<00:00, 59.94it/s]\n",
      "100%|██████████| 7/7 [00:00<00:00, 59.95it/s]\n",
      "  0%|          | 0/7 [00:00<?, ?it/s]"
     ]
    },
    {
     "name": "stdout",
     "output_type": "stream",
     "text": [
      "Training loss: 0.0761\n",
      "===== Epoch 53 of 100 ====\n",
      "<generator object chunks at 0x7f188a8a41a8>\n",
      "Training loss: 0.0750\n",
      "===== Epoch 54 of 100 ====\n",
      "<generator object chunks at 0x7f17e8060570>\n"
     ]
    },
    {
     "name": "stderr",
     "output_type": "stream",
     "text": [
      "100%|██████████| 7/7 [00:00<00:00, 60.10it/s]\n",
      "100%|██████████| 7/7 [00:00<00:00, 60.29it/s]\n",
      "  0%|          | 0/7 [00:00<?, ?it/s]"
     ]
    },
    {
     "name": "stdout",
     "output_type": "stream",
     "text": [
      "Training loss: 0.0748\n",
      "===== Epoch 55 of 100 ====\n",
      "<generator object chunks at 0x7f188a8a41a8>\n",
      "Training loss: 0.0752\n",
      "===== Epoch 56 of 100 ====\n",
      "<generator object chunks at 0x7f17e8060570>\n"
     ]
    },
    {
     "name": "stderr",
     "output_type": "stream",
     "text": [
      "100%|██████████| 7/7 [00:00<00:00, 60.23it/s]\n",
      "100%|██████████| 7/7 [00:00<00:00, 60.46it/s]\n",
      "  0%|          | 0/7 [00:00<?, ?it/s]"
     ]
    },
    {
     "name": "stdout",
     "output_type": "stream",
     "text": [
      "Training loss: 0.0740\n",
      "===== Epoch 57 of 100 ====\n",
      "<generator object chunks at 0x7f188a8a41a8>\n",
      "Training loss: 0.0727\n",
      "===== Epoch 58 of 100 ====\n",
      "<generator object chunks at 0x7f17e8060570>\n"
     ]
    },
    {
     "name": "stderr",
     "output_type": "stream",
     "text": [
      "100%|██████████| 7/7 [00:00<00:00, 60.28it/s]\n",
      "100%|██████████| 7/7 [00:00<00:00, 60.31it/s]\n",
      "  0%|          | 0/7 [00:00<?, ?it/s]"
     ]
    },
    {
     "name": "stdout",
     "output_type": "stream",
     "text": [
      "Training loss: 0.0718\n",
      "===== Epoch 59 of 100 ====\n",
      "<generator object chunks at 0x7f188a8a41a8>\n",
      "Training loss: 0.0710\n",
      "===== Epoch 60 of 100 ====\n",
      "<generator object chunks at 0x7f17e8060570>\n"
     ]
    },
    {
     "name": "stderr",
     "output_type": "stream",
     "text": [
      "100%|██████████| 7/7 [00:00<00:00, 60.06it/s]\n",
      "100%|██████████| 7/7 [00:00<00:00, 60.24it/s]\n",
      "  0%|          | 0/7 [00:00<?, ?it/s]"
     ]
    },
    {
     "name": "stdout",
     "output_type": "stream",
     "text": [
      "Training loss: 0.0700\n",
      "===== Epoch 61 of 100 ====\n",
      "<generator object chunks at 0x7f188a8a41a8>\n",
      "Training loss: 0.0685\n",
      "===== Epoch 62 of 100 ====\n",
      "<generator object chunks at 0x7f17e8060570>\n"
     ]
    },
    {
     "name": "stderr",
     "output_type": "stream",
     "text": [
      "100%|██████████| 7/7 [00:00<00:00, 60.20it/s]\n",
      "100%|██████████| 7/7 [00:00<00:00, 60.05it/s]\n",
      "  0%|          | 0/7 [00:00<?, ?it/s]"
     ]
    },
    {
     "name": "stdout",
     "output_type": "stream",
     "text": [
      "Training loss: 0.0677\n",
      "===== Epoch 63 of 100 ====\n",
      "<generator object chunks at 0x7f188a8a41a8>\n",
      "Training loss: 0.0674\n",
      "===== Epoch 64 of 100 ====\n",
      "<generator object chunks at 0x7f17e8060570>\n"
     ]
    },
    {
     "name": "stderr",
     "output_type": "stream",
     "text": [
      "100%|██████████| 7/7 [00:00<00:00, 60.10it/s]\n",
      "100%|██████████| 7/7 [00:00<00:00, 60.24it/s]\n",
      "  0%|          | 0/7 [00:00<?, ?it/s]"
     ]
    },
    {
     "name": "stdout",
     "output_type": "stream",
     "text": [
      "Training loss: 0.0673\n",
      "===== Epoch 65 of 100 ====\n",
      "<generator object chunks at 0x7f188a8a41a8>\n",
      "Training loss: 0.0673\n",
      "===== Epoch 66 of 100 ====\n",
      "<generator object chunks at 0x7f17e8060570>\n"
     ]
    },
    {
     "name": "stderr",
     "output_type": "stream",
     "text": [
      "100%|██████████| 7/7 [00:00<00:00, 60.06it/s]\n",
      "100%|██████████| 7/7 [00:00<00:00, 60.06it/s]\n",
      "  0%|          | 0/7 [00:00<?, ?it/s]"
     ]
    },
    {
     "name": "stdout",
     "output_type": "stream",
     "text": [
      "Training loss: 0.0667\n",
      "===== Epoch 67 of 100 ====\n",
      "<generator object chunks at 0x7f188a8a41a8>\n",
      "Training loss: 0.0657\n",
      "===== Epoch 68 of 100 ====\n",
      "<generator object chunks at 0x7f17e8060570>\n"
     ]
    },
    {
     "name": "stderr",
     "output_type": "stream",
     "text": [
      "100%|██████████| 7/7 [00:00<00:00, 60.26it/s]\n",
      "100%|██████████| 7/7 [00:00<00:00, 60.24it/s]\n",
      "  0%|          | 0/7 [00:00<?, ?it/s]"
     ]
    },
    {
     "name": "stdout",
     "output_type": "stream",
     "text": [
      "Training loss: 0.0649\n",
      "===== Epoch 69 of 100 ====\n",
      "<generator object chunks at 0x7f188a8a41a8>\n",
      "Training loss: 0.0650\n",
      "===== Epoch 70 of 100 ====\n",
      "<generator object chunks at 0x7f17e8060570>\n"
     ]
    },
    {
     "name": "stderr",
     "output_type": "stream",
     "text": [
      "100%|██████████| 7/7 [00:00<00:00, 60.03it/s]\n",
      "100%|██████████| 7/7 [00:00<00:00, 60.37it/s]\n",
      "  0%|          | 0/7 [00:00<?, ?it/s]"
     ]
    },
    {
     "name": "stdout",
     "output_type": "stream",
     "text": [
      "Training loss: 0.0652\n",
      "===== Epoch 71 of 100 ====\n",
      "<generator object chunks at 0x7f188a8a41a8>\n",
      "Training loss: 0.0644\n",
      "===== Epoch 72 of 100 ====\n",
      "<generator object chunks at 0x7f17e8060570>\n"
     ]
    },
    {
     "name": "stderr",
     "output_type": "stream",
     "text": [
      "100%|██████████| 7/7 [00:00<00:00, 60.21it/s]\n",
      "100%|██████████| 7/7 [00:00<00:00, 60.26it/s]\n",
      "  0%|          | 0/7 [00:00<?, ?it/s]"
     ]
    },
    {
     "name": "stdout",
     "output_type": "stream",
     "text": [
      "Training loss: 0.0655\n",
      "===== Epoch 73 of 100 ====\n",
      "<generator object chunks at 0x7f188a8a41a8>\n",
      "Training loss: 0.0665\n",
      "===== Epoch 74 of 100 ====\n",
      "<generator object chunks at 0x7f17e8060570>\n"
     ]
    },
    {
     "name": "stderr",
     "output_type": "stream",
     "text": [
      "100%|██████████| 7/7 [00:00<00:00, 60.07it/s]\n",
      "100%|██████████| 7/7 [00:00<00:00, 60.10it/s]\n",
      "  0%|          | 0/7 [00:00<?, ?it/s]"
     ]
    },
    {
     "name": "stdout",
     "output_type": "stream",
     "text": [
      "Training loss: 0.0645\n",
      "===== Epoch 75 of 100 ====\n",
      "<generator object chunks at 0x7f188a8a41a8>\n",
      "Training loss: 0.0623\n",
      "===== Epoch 76 of 100 ====\n",
      "<generator object chunks at 0x7f17e8060570>\n"
     ]
    },
    {
     "name": "stderr",
     "output_type": "stream",
     "text": [
      "100%|██████████| 7/7 [00:00<00:00, 60.38it/s]\n",
      "100%|██████████| 7/7 [00:00<00:00, 60.53it/s]\n",
      "  0%|          | 0/7 [00:00<?, ?it/s]"
     ]
    },
    {
     "name": "stdout",
     "output_type": "stream",
     "text": [
      "Training loss: 0.0614\n",
      "===== Epoch 77 of 100 ====\n",
      "<generator object chunks at 0x7f188a8a41a8>\n",
      "Training loss: 0.0618\n",
      "===== Epoch 78 of 100 ====\n",
      "<generator object chunks at 0x7f17e8060570>\n"
     ]
    },
    {
     "name": "stderr",
     "output_type": "stream",
     "text": [
      "100%|██████████| 7/7 [00:00<00:00, 60.56it/s]\n",
      "100%|██████████| 7/7 [00:00<00:00, 60.48it/s]\n",
      "  0%|          | 0/7 [00:00<?, ?it/s]"
     ]
    },
    {
     "name": "stdout",
     "output_type": "stream",
     "text": [
      "Training loss: 0.0627\n",
      "===== Epoch 79 of 100 ====\n",
      "<generator object chunks at 0x7f188a8a41a8>\n",
      "Training loss: 0.0614\n",
      "===== Epoch 80 of 100 ====\n",
      "<generator object chunks at 0x7f17e8060570>\n"
     ]
    },
    {
     "name": "stderr",
     "output_type": "stream",
     "text": [
      "100%|██████████| 7/7 [00:00<00:00, 60.32it/s]\n",
      "100%|██████████| 7/7 [00:00<00:00, 60.62it/s]\n",
      "  0%|          | 0/7 [00:00<?, ?it/s]"
     ]
    },
    {
     "name": "stdout",
     "output_type": "stream",
     "text": [
      "Training loss: 0.0606\n",
      "===== Epoch 81 of 100 ====\n",
      "<generator object chunks at 0x7f188a8a41a8>\n",
      "Training loss: 0.0606\n",
      "===== Epoch 82 of 100 ====\n",
      "<generator object chunks at 0x7f17e8060570>\n"
     ]
    },
    {
     "name": "stderr",
     "output_type": "stream",
     "text": [
      "100%|██████████| 7/7 [00:00<00:00, 60.27it/s]\n",
      "100%|██████████| 7/7 [00:00<00:00, 60.58it/s]\n",
      "  0%|          | 0/7 [00:00<?, ?it/s]"
     ]
    },
    {
     "name": "stdout",
     "output_type": "stream",
     "text": [
      "Training loss: 0.0595\n",
      "===== Epoch 83 of 100 ====\n",
      "<generator object chunks at 0x7f188a8a41a8>\n",
      "Training loss: 0.0582\n",
      "===== Epoch 84 of 100 ====\n",
      "<generator object chunks at 0x7f17e8060570>\n"
     ]
    },
    {
     "name": "stderr",
     "output_type": "stream",
     "text": [
      "100%|██████████| 7/7 [00:00<00:00, 60.17it/s]\n",
      "100%|██████████| 7/7 [00:00<00:00, 60.81it/s]\n",
      "  0%|          | 0/7 [00:00<?, ?it/s]"
     ]
    },
    {
     "name": "stdout",
     "output_type": "stream",
     "text": [
      "Training loss: 0.0571\n",
      "===== Epoch 85 of 100 ====\n",
      "<generator object chunks at 0x7f188a8a41a8>\n",
      "Training loss: 0.0568\n",
      "===== Epoch 86 of 100 ====\n",
      "<generator object chunks at 0x7f17e8060570>\n"
     ]
    },
    {
     "name": "stderr",
     "output_type": "stream",
     "text": [
      "100%|██████████| 7/7 [00:00<00:00, 60.18it/s]\n",
      "100%|██████████| 7/7 [00:00<00:00, 60.54it/s]\n",
      "  0%|          | 0/7 [00:00<?, ?it/s]"
     ]
    },
    {
     "name": "stdout",
     "output_type": "stream",
     "text": [
      "Training loss: 0.0564\n",
      "===== Epoch 87 of 100 ====\n",
      "<generator object chunks at 0x7f188a8a41a8>\n",
      "Training loss: 0.0554\n",
      "===== Epoch 88 of 100 ====\n",
      "<generator object chunks at 0x7f17e8060570>\n"
     ]
    },
    {
     "name": "stderr",
     "output_type": "stream",
     "text": [
      "100%|██████████| 7/7 [00:00<00:00, 60.70it/s]\n",
      "100%|██████████| 7/7 [00:00<00:00, 60.61it/s]\n",
      "  0%|          | 0/7 [00:00<?, ?it/s]"
     ]
    },
    {
     "name": "stdout",
     "output_type": "stream",
     "text": [
      "Training loss: 0.0550\n",
      "===== Epoch 89 of 100 ====\n",
      "<generator object chunks at 0x7f188a8a41a8>\n",
      "Training loss: 0.0548\n",
      "===== Epoch 90 of 100 ====\n",
      "<generator object chunks at 0x7f17e8060570>\n"
     ]
    },
    {
     "name": "stderr",
     "output_type": "stream",
     "text": [
      "100%|██████████| 7/7 [00:00<00:00, 60.37it/s]\n",
      "100%|██████████| 7/7 [00:00<00:00, 60.76it/s]\n",
      "  0%|          | 0/7 [00:00<?, ?it/s]"
     ]
    },
    {
     "name": "stdout",
     "output_type": "stream",
     "text": [
      "Training loss: 0.0545\n",
      "===== Epoch 91 of 100 ====\n",
      "<generator object chunks at 0x7f188a8a41a8>\n",
      "Training loss: 0.0541\n",
      "===== Epoch 92 of 100 ====\n",
      "<generator object chunks at 0x7f17e8060570>\n"
     ]
    },
    {
     "name": "stderr",
     "output_type": "stream",
     "text": [
      "100%|██████████| 7/7 [00:00<00:00, 60.20it/s]\n",
      "100%|██████████| 7/7 [00:00<00:00, 60.18it/s]\n",
      "  0%|          | 0/7 [00:00<?, ?it/s]"
     ]
    },
    {
     "name": "stdout",
     "output_type": "stream",
     "text": [
      "Training loss: 0.0540\n",
      "===== Epoch 93 of 100 ====\n",
      "<generator object chunks at 0x7f188a8a41a8>\n",
      "Training loss: 0.0539\n",
      "===== Epoch 94 of 100 ====\n",
      "<generator object chunks at 0x7f17e8060570>\n"
     ]
    },
    {
     "name": "stderr",
     "output_type": "stream",
     "text": [
      "100%|██████████| 7/7 [00:00<00:00, 60.09it/s]\n",
      "100%|██████████| 7/7 [00:00<00:00, 60.29it/s]\n",
      "  0%|          | 0/7 [00:00<?, ?it/s]"
     ]
    },
    {
     "name": "stdout",
     "output_type": "stream",
     "text": [
      "Training loss: 0.0535\n",
      "===== Epoch 95 of 100 ====\n",
      "<generator object chunks at 0x7f188a8a41a8>\n",
      "Training loss: 0.0536\n",
      "===== Epoch 96 of 100 ====\n",
      "<generator object chunks at 0x7f17e8060570>\n"
     ]
    },
    {
     "name": "stderr",
     "output_type": "stream",
     "text": [
      "100%|██████████| 7/7 [00:00<00:00, 60.17it/s]\n",
      "100%|██████████| 7/7 [00:00<00:00, 60.57it/s]\n",
      "  0%|          | 0/7 [00:00<?, ?it/s]"
     ]
    },
    {
     "name": "stdout",
     "output_type": "stream",
     "text": [
      "Training loss: 0.0535\n",
      "===== Epoch 97 of 100 ====\n",
      "<generator object chunks at 0x7f188a8a41a8>\n",
      "Training loss: 0.0533\n",
      "===== Epoch 98 of 100 ====\n",
      "<generator object chunks at 0x7f17e8060570>\n"
     ]
    },
    {
     "name": "stderr",
     "output_type": "stream",
     "text": [
      "100%|██████████| 7/7 [00:00<00:00, 60.21it/s]\n",
      "100%|██████████| 7/7 [00:00<00:00, 60.57it/s]\n",
      "  0%|          | 0/7 [00:00<?, ?it/s]"
     ]
    },
    {
     "name": "stdout",
     "output_type": "stream",
     "text": [
      "Training loss: 0.0533\n",
      "===== Epoch 99 of 100 ====\n",
      "<generator object chunks at 0x7f188a8a41a8>\n",
      "Training loss: 0.0533\n",
      "===== Epoch 100 of 100 ====\n",
      "<generator object chunks at 0x7f17e8060570>\n"
     ]
    },
    {
     "name": "stderr",
     "output_type": "stream",
     "text": [
      "100%|██████████| 7/7 [00:00<00:00, 60.38it/s]"
     ]
    },
    {
     "name": "stdout",
     "output_type": "stream",
     "text": [
      "Training loss: 0.0529\n"
     ]
    },
    {
     "name": "stderr",
     "output_type": "stream",
     "text": [
      "\n"
     ]
    }
   ],
   "source": [
    "model.double()\n",
    "model.train()\n",
    "n_epochs = 100\n",
    "saving_freq = 10\n",
    "\n",
    "for epoch in range(n_epochs):\n",
    "    model.train()\n",
    "    print(\"===== Epoch %d of %d ====\" % (epoch + 1, n_epochs))\n",
    "    losses = []\n",
    "    batch_ix = 0\n",
    "    num_batches = len(X_train) // batch_size\n",
    "    #random.shuffle(X_train)\n",
    "    val_loss = 0\n",
    "    X_train_batched = chunks(X_train, num_batches)\n",
    "    print(X_train_batched)\n",
    "    for batch_ix in tqdm(range(num_batches)):\n",
    "        batch = next(X_train_batched)\n",
    "        y_hats = []\n",
    "        ys = []\n",
    "\n",
    "        for data in batch:\n",
    "            data.to(device)\n",
    "            y_hat = model(data)\n",
    "            y_hats.append(y_hat)\n",
    "            ys.append(data.y)\n",
    "            \n",
    "\n",
    "        y_hats = torch.cat(y_hats)\n",
    "        ys = torch.cat(ys)\n",
    "\n",
    "        loss = F.mse_loss(y_hats, ys)\n",
    "        loss.backward()\n",
    "        losses.append(loss)\n",
    "        optimizer.step()\n",
    "        optimizer.zero_grad()\n",
    "     \n",
    "    \"\"\"\n",
    "    with torch.no_grad():\n",
    "        y_hats = []\n",
    "        ys = []\n",
    "        \n",
    "        print(\"Validation\")\n",
    "        model.eval()\n",
    "        \n",
    "        for data in tqdm(X_val):\n",
    "            data.to(device)\n",
    "            y_hat = model(data)\n",
    "            y_hats.append(y_hat)\n",
    "            ys.append(data.y)\n",
    "            \n",
    "        y_hats = torch.cat(y_hats)\n",
    "        ys = torch.cat(ys)\n",
    "        \n",
    "        loss = F.mse_loss(y_hats, ys)\n",
    "        val_loss = loss.mean()\n",
    "        \n",
    "    if epoch % saving_freq == 0:\n",
    "        torch.save(model.state_dict(), './saved_model/model_%d' % epoch )\n",
    "    \"\"\"\n",
    "    \n",
    "    print(\"Training loss: %.4f\" % torch.stack(losses).mean())\n",
    "    #print(\"Validation loss: %.4f\" % val_loss)\n",
    "\n",
    "torch.save(model.state_dict(), './model_latest')"
   ]
  },
  {
   "cell_type": "code",
   "execution_count": 21,
   "metadata": {},
   "outputs": [],
   "source": [
    "import ase\n",
    "import pandas as pd\n",
    "import numpy as np\n",
    "from ase import Atoms, Atom\n",
    "import ase.visualize\n",
    "import random"
   ]
  },
  {
   "cell_type": "code",
   "execution_count": 165,
   "metadata": {},
   "outputs": [
    {
     "data": {
      "text/plain": [
       "Net(\n",
       "  (conv1): GraphConv(75, 256)\n",
       "  (conv2): GraphConv(256, 256)\n",
       "  (batch_norm1): BatchNorm(256, eps=1e-05, momentum=0.1, affine=True, track_running_stats=True)\n",
       "  (linear): Linear(in_features=256, out_features=128, bias=True)\n",
       "  (linear2): Linear(in_features=1152, out_features=3, bias=True)\n",
       ")"
      ]
     },
     "execution_count": 165,
     "metadata": {},
     "output_type": "execute_result"
    }
   ],
   "source": [
    "model.load_state_dict(torch.load('./model_latest'))\n",
    "model.eval()"
   ]
  },
  {
   "cell_type": "code",
   "execution_count": 166,
   "metadata": {},
   "outputs": [],
   "source": [
    "curr_mol = 600"
   ]
  },
  {
   "cell_type": "code",
   "execution_count": 167,
   "metadata": {
    "scrolled": true
   },
   "outputs": [
    {
     "data": {
      "application/vnd.jupyter.widget-view+json": {
       "model_id": "79198e2fc46240a9a3a48a8882b75143",
       "version_major": 2,
       "version_minor": 0
      },
      "text/plain": [
       "HBox(children=(NGLWidget(), VBox(children=(Dropdown(description='Show', options=('All', 'N', 'C', 'O'), value=…"
      ]
     },
     "metadata": {},
     "output_type": "display_data"
    }
   ],
   "source": [
    "x_0 = X_train[curr_mol]\n",
    "x_0.to(device)\n",
    "with torch.no_grad():\n",
    "    y_0_hat = model(x_0)\n",
    "    y_0 = x_0.y.cpu().numpy()\n",
    "    \n",
    "#system = Atoms(positions=y_0_hat.cpu().numpy(), symbols=x_0.atom_list)\n",
    "#ase.visualize.view(system, viewer=\"x3d\")\n",
    "\n",
    "system = Atoms(positions=y_0, symbols=x_0.atom_list)\n",
    "ase.visualize.view(system, viewer=\"ngl\")"
   ]
  },
  {
   "cell_type": "code",
   "execution_count": 168,
   "metadata": {},
   "outputs": [
    {
     "data": {
      "image/png": "[encoded data removed]",
      "text/plain": [
       "<rdkit.Chem.rdchem.Mol at 0x7f17f0d84800>"
      ]
     },
     "execution_count": 168,
     "metadata": {},
     "output_type": "execute_result"
    }
   ],
   "source": [
    "mols[curr_mol].GetNumAtoms()\n",
    "mols[curr_mol]"
   ]
  },
  {
   "cell_type": "code",
   "execution_count": 169,
   "metadata": {},
   "outputs": [
    {
     "data": {
      "application/vnd.jupyter.widget-view+json": {
       "model_id": "65486ad311ef4df894eb481682b15ea8",
       "version_major": 2,
       "version_minor": 0
      },
      "text/plain": [
       "HBox(children=(NGLWidget(), VBox(children=(Dropdown(description='Show', options=('All', 'N', 'C', 'O'), value=…"
      ]
     },
     "metadata": {},
     "output_type": "display_data"
    }
   ],
   "source": [
    "system = Atoms(positions=y_0_hat.cpu().numpy(), symbols=x_0.atom_list)\n",
    "ase.visualize.view(system, viewer=\"ngl\")"
   ]
  },
  {
   "cell_type": "code",
   "execution_count": null,
   "metadata": {},
   "outputs": [],
   "source": []
  }
 ],
 "metadata": {
  "kernelspec": {
   "display_name": "Python 3",
   "language": "python",
   "name": "python3"
  },
  "language_info": {
   "codemirror_mode": {
    "name": "ipython",
    "version": 3
   },
   "file_extension": ".py",
   "mimetype": "text/x-python",
   "name": "python",
   "nbconvert_exporter": "python",
   "pygments_lexer": "ipython3",
   "version": "3.6.9"
  }
 },
 "nbformat": 4,
 "nbformat_minor": 4
}
