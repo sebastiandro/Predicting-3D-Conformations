{
 "cells": [
  {
   "cell_type": "markdown",
   "metadata": {},
   "source": [
    "# 3D Conformation Prediction"
   ]
  },
  {
   "cell_type": "code",
   "execution_count": 26,
   "metadata": {},
   "outputs": [],
   "source": [
    "import pandas as pd\n",
    "import numpy as np\n",
    "import os\n",
    "import glob\n",
    "import torch\n",
    "import torch.nn.functional as F\n",
    "from tqdm import tqdm\n",
    "from rdkit.Chem import MolFromSmiles"
   ]
  },
  {
   "cell_type": "code",
   "execution_count": 4,
   "metadata": {},
   "outputs": [],
   "source": [
    "from IPython import get_ipython\n",
    "\n",
    "def tqdm_clear(*args, **kwargs):\n",
    "    from tqdm import tqdm\n",
    "    getattr(tqdm, '_instances', {}).clear()\n",
    "\n",
    "get_ipython().events.register('post_execute', tqdm_clear)"
   ]
  },
  {
   "cell_type": "markdown",
   "metadata": {},
   "source": [
    "## Load QM9"
   ]
  },
  {
   "cell_type": "code",
   "execution_count": 266,
   "metadata": {
    "scrolled": true
   },
   "outputs": [
    {
     "name": "stderr",
     "output_type": "stream",
     "text": [
      "100%|██████████| 133885/133885 [00:06<00:00, 21960.38it/s]\n"
     ]
    }
   ],
   "source": [
    "file_re = os.path.join('./qm92', '*.xyz')\n",
    "file_pathes = glob.glob(file_re)\n",
    "file_pathes.sort()\n",
    "ls = []\n",
    "_smiles_column_names = ['smiles1', 'smiles2']\n",
    "_label_names = ['A', 'B', 'C', 'mu', 'alpha', 'homo', 'lumo', 'gap', 'r2',\n",
    "                'zpve', 'U0', 'U', 'H', 'G', 'Cv']\n",
    "\n",
    "y = []\n",
    "for ix,path in enumerate(tqdm(file_pathes)):\n",
    "    with open(path, 'r') as f:\n",
    "        data = [line.strip() for line in f]\n",
    "        \n",
    "    num_atom = int(data[0])\n",
    "    # We're only interested in molecules with 3 or more molecules\n",
    "    if num_atom < 3:\n",
    "        continue\n",
    "    properties = list(map(float, data[1].split('\\t')[1:]))\n",
    "    ys = []\n",
    "    for ix_pos in range(2,num_atom+2):\n",
    "        if not data[ix_pos][0] == 'H':\n",
    "            ys.append(list(map(float, data[ix_pos].replace('*^', 'e').split('\\t')[1:]))[:3])\n",
    "\n",
    "    if len(ys) < 3:\n",
    "        continue\n",
    "    y.append(ys)\n",
    "\n",
    "    smiles = data[3 + num_atom].split('\\t')\n",
    "    new_ls = smiles + properties\n",
    "    ls.append(new_ls)\n",
    "\n",
    "df = pd.DataFrame(ls, columns= _smiles_column_names + _label_names)"
   ]
  },
  {
   "cell_type": "code",
   "execution_count": 267,
   "metadata": {
    "scrolled": true
   },
   "outputs": [
    {
     "data": {
      "text/html": [
       "<div>\n",
       "<style scoped>\n",
       "    .dataframe tbody tr th:only-of-type {\n",
       "        vertical-align: middle;\n",
       "    }\n",
       "\n",
       "    .dataframe tbody tr th {\n",
       "        vertical-align: top;\n",
       "    }\n",
       "\n",
       "    .dataframe thead th {\n",
       "        text-align: right;\n",
       "    }\n",
       "</style>\n",
       "<table border=\"1\" class=\"dataframe\">\n",
       "  <thead>\n",
       "    <tr style=\"text-align: right;\">\n",
       "      <th></th>\n",
       "      <th>smiles1</th>\n",
       "      <th>smiles2</th>\n",
       "      <th>A</th>\n",
       "      <th>B</th>\n",
       "      <th>C</th>\n",
       "      <th>mu</th>\n",
       "      <th>alpha</th>\n",
       "      <th>homo</th>\n",
       "      <th>lumo</th>\n",
       "      <th>gap</th>\n",
       "      <th>r2</th>\n",
       "      <th>zpve</th>\n",
       "      <th>U0</th>\n",
       "      <th>U</th>\n",
       "      <th>H</th>\n",
       "      <th>G</th>\n",
       "      <th>Cv</th>\n",
       "    </tr>\n",
       "  </thead>\n",
       "  <tbody>\n",
       "    <tr>\n",
       "      <th>45298</th>\n",
       "      <td>O=C1CC2CC=CC2C1</td>\n",
       "      <td>O=C1C[C@H]2CC=C[C@H]2C1</td>\n",
       "      <td>3.31286</td>\n",
       "      <td>1.34376</td>\n",
       "      <td>1.14366</td>\n",
       "      <td>2.7623</td>\n",
       "      <td>79.27</td>\n",
       "      <td>-0.2322</td>\n",
       "      <td>-0.0147</td>\n",
       "      <td>0.2175</td>\n",
       "      <td>1106.2775</td>\n",
       "      <td>0.161258</td>\n",
       "      <td>-385.938483</td>\n",
       "      <td>-385.930940</td>\n",
       "      <td>-385.929995</td>\n",
       "      <td>-385.971991</td>\n",
       "      <td>29.480</td>\n",
       "    </tr>\n",
       "    <tr>\n",
       "      <th>20224</th>\n",
       "      <td>C1CC2C3C4C3C2C14</td>\n",
       "      <td>C1C[C@H]2[C@H]3[C@@H]4[C@H]3[C@H]2[C@H]14</td>\n",
       "      <td>4.01041</td>\n",
       "      <td>2.57927</td>\n",
       "      <td>2.20695</td>\n",
       "      <td>0.0631</td>\n",
       "      <td>72.80</td>\n",
       "      <td>-0.2344</td>\n",
       "      <td>0.0938</td>\n",
       "      <td>0.3282</td>\n",
       "      <td>707.8651</td>\n",
       "      <td>0.157769</td>\n",
       "      <td>-310.631478</td>\n",
       "      <td>-310.625972</td>\n",
       "      <td>-310.625028</td>\n",
       "      <td>-310.660707</td>\n",
       "      <td>23.915</td>\n",
       "    </tr>\n",
       "    <tr>\n",
       "      <th>38013</th>\n",
       "      <td>C1C2N=C3NC=NC3C12</td>\n",
       "      <td>C1[C@H]2[N][C]3N[CH][N][C@H]3[C@@H]12</td>\n",
       "      <td>3.69526</td>\n",
       "      <td>1.72923</td>\n",
       "      <td>1.37521</td>\n",
       "      <td>1.0729</td>\n",
       "      <td>72.75</td>\n",
       "      <td>-0.2263</td>\n",
       "      <td>-0.0101</td>\n",
       "      <td>0.2162</td>\n",
       "      <td>915.8435</td>\n",
       "      <td>0.128583</td>\n",
       "      <td>-396.926344</td>\n",
       "      <td>-396.920135</td>\n",
       "      <td>-396.919191</td>\n",
       "      <td>-396.956727</td>\n",
       "      <td>25.670</td>\n",
       "    </tr>\n",
       "    <tr>\n",
       "      <th>111910</th>\n",
       "      <td>CC1OC(N)=NC1CO</td>\n",
       "      <td>C[C@H]1O[C](N)[N][C@H]1CO</td>\n",
       "      <td>2.12607</td>\n",
       "      <td>1.47993</td>\n",
       "      <td>0.95983</td>\n",
       "      <td>3.4386</td>\n",
       "      <td>72.82</td>\n",
       "      <td>-0.2254</td>\n",
       "      <td>0.0471</td>\n",
       "      <td>0.2725</td>\n",
       "      <td>1240.8898</td>\n",
       "      <td>0.160257</td>\n",
       "      <td>-456.370900</td>\n",
       "      <td>-456.361779</td>\n",
       "      <td>-456.360834</td>\n",
       "      <td>-456.404992</td>\n",
       "      <td>34.188</td>\n",
       "    </tr>\n",
       "    <tr>\n",
       "      <th>115618</th>\n",
       "      <td>CN1CC11CCC1CO</td>\n",
       "      <td>CN1C[C@]21CC[C@H]2CO</td>\n",
       "      <td>2.71760</td>\n",
       "      <td>1.10942</td>\n",
       "      <td>0.97126</td>\n",
       "      <td>1.2227</td>\n",
       "      <td>83.02</td>\n",
       "      <td>-0.2245</td>\n",
       "      <td>0.0785</td>\n",
       "      <td>0.3030</td>\n",
       "      <td>1338.3809</td>\n",
       "      <td>0.193059</td>\n",
       "      <td>-404.299637</td>\n",
       "      <td>-404.289850</td>\n",
       "      <td>-404.288906</td>\n",
       "      <td>-404.334566</td>\n",
       "      <td>36.282</td>\n",
       "    </tr>\n",
       "  </tbody>\n",
       "</table>\n",
       "</div>"
      ],
      "text/plain": [
       "                  smiles1                                    smiles2        A  \\\n",
       "45298     O=C1CC2CC=CC2C1                    O=C1C[C@H]2CC=C[C@H]2C1  3.31286   \n",
       "20224    C1CC2C3C4C3C2C14  C1C[C@H]2[C@H]3[C@@H]4[C@H]3[C@H]2[C@H]14  4.01041   \n",
       "38013   C1C2N=C3NC=NC3C12      C1[C@H]2[N][C]3N[CH][N][C@H]3[C@@H]12  3.69526   \n",
       "111910     CC1OC(N)=NC1CO                  C[C@H]1O[C](N)[N][C@H]1CO  2.12607   \n",
       "115618      CN1CC11CCC1CO                       CN1C[C@]21CC[C@H]2CO  2.71760   \n",
       "\n",
       "              B        C      mu  alpha    homo    lumo     gap         r2  \\\n",
       "45298   1.34376  1.14366  2.7623  79.27 -0.2322 -0.0147  0.2175  1106.2775   \n",
       "20224   2.57927  2.20695  0.0631  72.80 -0.2344  0.0938  0.3282   707.8651   \n",
       "38013   1.72923  1.37521  1.0729  72.75 -0.2263 -0.0101  0.2162   915.8435   \n",
       "111910  1.47993  0.95983  3.4386  72.82 -0.2254  0.0471  0.2725  1240.8898   \n",
       "115618  1.10942  0.97126  1.2227  83.02 -0.2245  0.0785  0.3030  1338.3809   \n",
       "\n",
       "            zpve          U0           U           H           G      Cv  \n",
       "45298   0.161258 -385.938483 -385.930940 -385.929995 -385.971991  29.480  \n",
       "20224   0.157769 -310.631478 -310.625972 -310.625028 -310.660707  23.915  \n",
       "38013   0.128583 -396.926344 -396.920135 -396.919191 -396.956727  25.670  \n",
       "111910  0.160257 -456.370900 -456.361779 -456.360834 -456.404992  34.188  \n",
       "115618  0.193059 -404.299637 -404.289850 -404.288906 -404.334566  36.282  "
      ]
     },
     "execution_count": 267,
     "metadata": {},
     "output_type": "execute_result"
    }
   ],
   "source": [
    "df.sample(5)"
   ]
  },
  {
   "cell_type": "markdown",
   "metadata": {},
   "source": [
    "# Setting up dataset"
   ]
  },
  {
   "cell_type": "markdown",
   "metadata": {},
   "source": [
    "The first thing we want to do is to find a way of representing a molecule to our graph convolutional network. For this, we will make use of DeepChem which provides a number of 'featurizers'. In this case the features of an atom is a number of descriptors generated from RDKit."
   ]
  },
  {
   "cell_type": "code",
   "execution_count": 320,
   "metadata": {},
   "outputs": [],
   "source": [
    "mols = [MolFromSmiles(row.smiles1) for (ix,row) in df.iterrows()]"
   ]
  },
  {
   "cell_type": "markdown",
   "metadata": {},
   "source": [
    "### Adding Fingerprints to the mix"
   ]
  },
  {
   "cell_type": "code",
   "execution_count": 321,
   "metadata": {},
   "outputs": [],
   "source": [
    "from rdkit.Chem import AllChem\n",
    "fingerprints = []\n",
    "for m in mols:\n",
    "    fp1 = AllChem.GetMorganFingerprintAsBitVect(m, useChirality=True, radius=2, nBits=1024)\n",
    "    vec1 = np.array(fp1);\n",
    "    fingerprints.append(vec1)"
   ]
  },
  {
   "cell_type": "markdown",
   "metadata": {},
   "source": [
    "### Looking at some 2D representations"
   ]
  },
  {
   "cell_type": "code",
   "execution_count": 319,
   "metadata": {
    "scrolled": false
   },
   "outputs": [
    {
     "data": {
      "image/png": "[encoded data removed]",
      "text/plain": [
       "<PIL.PngImagePlugin.PngImageFile image mode=RGB size=2000x1000 at 0x7FB8DBACF320>"
      ]
     },
     "execution_count": 319,
     "metadata": {},
     "output_type": "execute_result"
    }
   ],
   "source": [
    "from rdkit.Chem import Draw\n",
    "from rdkit.Chem.AllChem import Compute2DCoords\n",
    "from rdkit.Chem.Draw import IPythonConsole\n",
    "img = Draw.MolsToGridImage( mols[:50], molsPerRow=10)\n",
    "img"
   ]
  },
  {
   "cell_type": "markdown",
   "metadata": {},
   "source": [
    "### Looking at graph representations"
   ]
  },
  {
   "cell_type": "code",
   "execution_count": 72,
   "metadata": {},
   "outputs": [],
   "source": [
    "import networkx as nx\n",
    "\n",
    "def create_edge_index(A):\n",
    "    rows = []\n",
    "    cols = []\n",
    "    for i in range(A.shape[0]):\n",
    "        for j in range(A.shape[0]):\n",
    "            if A[i,j] == 1:\n",
    "                rows.append(i)\n",
    "                cols.append(j)\n",
    "    return rows, cols\n",
    "\n",
    "def get_molecule_features(m):\n",
    "    featurizer = ConvMolFeaturizer()\n",
    "    return featurizer.featurize([m])[0].get_atom_features()"
   ]
  },
  {
   "cell_type": "code",
   "execution_count": 315,
   "metadata": {},
   "outputs": [],
   "source": [
    "from deepchem.feat import RDKitDescriptors, ConvMolFeaturizer\n",
    "from rdkit.Chem.rdmolops import GetAdjacencyMatrix\n",
    "\n",
    "m = mols[10]\n",
    "molecule_featurized = get_molecule_features(m)\n",
    "A = GetAdjacencyMatrix(m)"
   ]
  },
  {
   "cell_type": "code",
   "execution_count": 316,
   "metadata": {},
   "outputs": [
    {
     "data": {
      "text/plain": [
       "['C', 'C', 'N', 'O']"
      ]
     },
     "execution_count": 316,
     "metadata": {},
     "output_type": "execute_result"
    }
   ],
   "source": [
    "atomlist = [at.GetSymbol() for at in m.GetAtoms()]\n",
    "atomlist"
   ]
  },
  {
   "cell_type": "markdown",
   "metadata": {},
   "source": [
    "Let's see how our adjacency matrix looks. This matrix will be used in our graph convolutions."
   ]
  },
  {
   "cell_type": "code",
   "execution_count": 336,
   "metadata": {
    "scrolled": true
   },
   "outputs": [
    {
     "data": {
      "image/png": "[encoded data removed]",
      "text/plain": [
       "<Figure size 432x288 with 1 Axes>"
      ]
     },
     "metadata": {},
     "output_type": "display_data"
    }
   ],
   "source": [
    "D = nx.to_networkx_graph(A,create_using=nx.DiGraph())\n",
    "nx.draw(D)"
   ]
  },
  {
   "cell_type": "markdown",
   "metadata": {},
   "source": [
    "Let's see how the molecule looks in 2D according to RDKit"
   ]
  },
  {
   "cell_type": "code",
   "execution_count": 318,
   "metadata": {},
   "outputs": [
    {
     "data": {
      "image/png": "[encoded data removed]",
      "text/plain": [
       "<rdkit.Chem.rdchem.Mol at 0x7fb939a6b3f0>"
      ]
     },
     "execution_count": 318,
     "metadata": {},
     "output_type": "execute_result"
    }
   ],
   "source": [
    "m"
   ]
  },
  {
   "cell_type": "markdown",
   "metadata": {},
   "source": [
    "Let's repeat this for all molecules"
   ]
  },
  {
   "cell_type": "code",
   "execution_count": 10,
   "metadata": {},
   "outputs": [],
   "source": [
    "import os.path\n",
    "import pickle\n",
    "from torch_geometric.data import Data, DataLoader\n",
    "from torchvision import transforms\n",
    "fname = 'data_list.pickle'\n",
    "\n",
    "if not os.path.isfile(fname) :\n",
    "    data_list = []\n",
    "    for ix, m in enumerate(mols):\n",
    "        mol_featurized = get_molecule_features(m)\n",
    "        A = GetAdjacencyMatrix(m)\n",
    "        edge_index = create_edge_index(A)\n",
    "        x = torch.tensor(mol_featurized)\n",
    "        #x_min = torch.min(x)\n",
    "        #range_x = torch.max(x) - torch.min(x)\n",
    "        #x = (x - x_min) / range_x\n",
    "        if not x.shape[0] == torch.DoubleTensor(y[ix]).shape[0]:\n",
    "            print(\"Unmatching x and y!\")\n",
    "            print(x.shape)\n",
    "            print(torch.DoubleTensor(y[ix]).shape)\n",
    "            break\n",
    "        d = Data(x=x, edge_index=torch.LongTensor(edge_index), y=torch.DoubleTensor(y[ix]))\n",
    "        d.fingerprint = fingerprints[ix]\n",
    "        d.atom_list = [at.GetSymbol() for at in m.GetAtoms()]\n",
    "        data_list.append(d)\n",
    "        \n",
    "    with open(fname, 'wb') as f:\n",
    "        pickle.dump(data_list, f)\n",
    "else:\n",
    "    with open(fname, 'rb') as f:\n",
    "        data_list = pickle.load(f)"
   ]
  },
  {
   "cell_type": "code",
   "execution_count": 11,
   "metadata": {},
   "outputs": [],
   "source": [
    "loader = DataLoader(data_list, batch_size=32)"
   ]
  },
  {
   "cell_type": "markdown",
   "metadata": {},
   "source": [
    "# Setting Up Graph Convolutional Network"
   ]
  },
  {
   "cell_type": "code",
   "execution_count": 12,
   "metadata": {},
   "outputs": [],
   "source": [
    "from torch_geometric.nn import GCNConv, BatchNorm, GMMConv, SAGEConv, GraphConv, GATConv\n",
    "from torch_geometric.nn.pool import TopKPooling, EdgePooling, SAGPooling\n",
    "from torch import nn\n",
    "\n",
    "class Net(torch.nn.Module):\n",
    "    def __init__(self):\n",
    "        super(Net, self).__init__()\n",
    "        self.conv1 = GraphConv(75, 256)\n",
    "        self.conv2 = GraphConv(256, 256)\n",
    "        self.batch_norm1 = BatchNorm(256)\n",
    "        self.linear = nn.Linear(256, 128)\n",
    "        self.linear2 = nn.Linear(1152, 3)\n",
    "\n",
    "    def forward(self, data):\n",
    "        x, edge_index = data.x, data.edge_index\n",
    "        x = self.conv1(x, edge_index)\n",
    "        x = F.relu(x)\n",
    "        x = self.batch_norm1(x)\n",
    "        \n",
    "        x = self.conv2(x, edge_index)\n",
    "        x = F.relu(x)\n",
    "        x = self.batch_norm1(x)\n",
    "        \n",
    "        x = self.conv2(x, edge_index)\n",
    "        x = F.relu(x)\n",
    "        x = self.batch_norm1(x)\n",
    "        \n",
    "        x = self.linear(x)\n",
    "        \n",
    "        outs = []\n",
    "        fp = torch.DoubleTensor(data.fingerprint).to(device)\n",
    "        for row_ix in range(x.shape[0]):\n",
    "            z = torch.cat((x[row_ix,:], fp), 0)\n",
    "            outs.append(self.linear2(z))\n",
    "        \n",
    "        return torch.stack(outs)"
   ]
  },
  {
   "cell_type": "code",
   "execution_count": 13,
   "metadata": {},
   "outputs": [],
   "source": [
    "device = torch.device('cuda' if torch.cuda.is_available() else 'cpu')\n",
    "model = Net().to(device)\n",
    "data = loader.dataset[0].to(device)\n",
    "optimizer = torch.optim.Adam(model.parameters(), lr=0.001, weight_decay=5e-4)"
   ]
  },
  {
   "cell_type": "code",
   "execution_count": 14,
   "metadata": {},
   "outputs": [],
   "source": [
    "def chunks(lst, n):\n",
    "    \"\"\"Yield successive n-sized chunks from lst.\"\"\"\n",
    "    for i in range(0, len(lst), n):\n",
    "        yield lst[i:i + n]"
   ]
  },
  {
   "cell_type": "code",
   "execution_count": 15,
   "metadata": {},
   "outputs": [
    {
     "data": {
      "text/plain": [
       "Net(\n",
       "  (conv1): GraphConv(75, 256)\n",
       "  (conv2): GraphConv(256, 256)\n",
       "  (batch_norm1): BatchNorm(256, eps=1e-05, momentum=0.1, affine=True, track_running_stats=True)\n",
       "  (linear): Linear(in_features=256, out_features=128, bias=True)\n",
       "  (linear2): Linear(in_features=1152, out_features=3, bias=True)\n",
       ")"
      ]
     },
     "execution_count": 15,
     "metadata": {},
     "output_type": "execute_result"
    }
   ],
   "source": [
    "#import random\n",
    "#random.shuffle(loader.dataset)\n",
    "N = len(loader.dataset)\n",
    "num_train = 100000\n",
    "X_train = loader.dataset[:num_train]\n",
    "X_val = loader.dataset[num_train:num_train+20000]\n",
    "batch_size = 128\n",
    "X_train_batched = chunks(X_train, len(X_train) // batch_size)\n",
    "model.double()"
   ]
  },
  {
   "cell_type": "code",
   "execution_count": null,
   "metadata": {
    "scrolled": true
   },
   "outputs": [],
   "source": [
    "model.train()\n",
    "n_epochs = 10\n",
    "saving_freq = 1\n",
    "\n",
    "for epoch in range(n_epochs):\n",
    "    model.train()\n",
    "    print(\"===== Epoch %d of %d ====\" % (epoch + 1, n_epochs))\n",
    "    losses = []\n",
    "    batch_ix = 0\n",
    "    num_batches = len(X_train) // batch_size\n",
    "    random.shuffle(X_train)\n",
    "    val_loss = 0\n",
    "    X_train_batched = chunks(X_train, num_batches)\n",
    "    for batch_ix in tqdm(range(num_batches)):\n",
    "        print(X_train_batched)\n",
    "        batch = next(X_train_batched)\n",
    "        y_hats = []\n",
    "        ys = []\n",
    "\n",
    "        for data in batch:\n",
    "            data.to(device)\n",
    "            y_hat = model(data)\n",
    "            y_hats.append(y_hat)\n",
    "            ys.append(data.y)\n",
    "            \n",
    "\n",
    "        y_hats = torch.cat(y_hats)\n",
    "        ys = torch.cat(ys)\n",
    "\n",
    "        loss = F.mse_loss(y_hats, ys)\n",
    "        loss.backward()\n",
    "        losses.append(loss)\n",
    "        optimizer.step()\n",
    "        optimizer.zero_grad()\n",
    "     \n",
    "   \n",
    "    with torch.no_grad():\n",
    "        y_hats = []\n",
    "        ys = []\n",
    "        \n",
    "        print(\"Validation\")\n",
    "        model.eval()\n",
    "        \n",
    "        for data in tqdm(X_val):\n",
    "            data.to(device)\n",
    "            y_hat = model(data)\n",
    "            y_hats.append(y_hat)\n",
    "            ys.append(data.y)\n",
    "            \n",
    "        y_hats = torch.cat(y_hats)\n",
    "        ys = torch.cat(ys)\n",
    "        \n",
    "        loss = F.mse_loss(y_hats, ys)\n",
    "        val_loss = loss.mean()\n",
    "        \n",
    "    if epoch % saving_freq == 0:\n",
    "        torch.save(model.state_dict(), './saved_model/model_%d' % epoch )\n",
    "   \n",
    "    \n",
    "    print(\"Training loss: %.4f\" % torch.stack(losses).mean())\n",
    "    print(\"Validation loss: %.4f\" % val_loss)\n",
    "\n",
    "torch.save(model.state_dict(), './model_latest')"
   ]
  },
  {
   "cell_type": "code",
   "execution_count": 16,
   "metadata": {},
   "outputs": [],
   "source": [
    "import ase\n",
    "import pandas as pd\n",
    "import numpy as np\n",
    "from ase import Atoms\n",
    "import ase.visualize\n",
    "import random"
   ]
  },
  {
   "cell_type": "code",
   "execution_count": 17,
   "metadata": {},
   "outputs": [
    {
     "data": {
      "text/plain": [
       "Net(\n",
       "  (conv1): GraphConv(75, 256)\n",
       "  (conv2): GraphConv(256, 256)\n",
       "  (batch_norm1): BatchNorm(256, eps=1e-05, momentum=0.1, affine=True, track_running_stats=True)\n",
       "  (linear): Linear(in_features=256, out_features=128, bias=True)\n",
       "  (linear2): Linear(in_features=1152, out_features=3, bias=True)\n",
       ")"
      ]
     },
     "execution_count": 17,
     "metadata": {},
     "output_type": "execute_result"
    }
   ],
   "source": [
    "model.load_state_dict(torch.load('./model_latest'))\n",
    "model.eval()"
   ]
  },
  {
   "cell_type": "code",
   "execution_count": 322,
   "metadata": {},
   "outputs": [],
   "source": [
    "curr_mol = 10"
   ]
  },
  {
   "cell_type": "code",
   "execution_count": 323,
   "metadata": {
    "scrolled": true
   },
   "outputs": [
    {
     "data": {
      "application/vnd.jupyter.widget-view+json": {
       "model_id": "62e4b35553d24b5f821d1d1469f872c7",
       "version_major": 2,
       "version_minor": 0
      },
      "text/plain": [
       "HBox(children=(NGLWidget(), VBox(children=(Dropdown(description='Show', options=('All', 'N', 'C', 'O'), value=…"
      ]
     },
     "metadata": {},
     "output_type": "display_data"
    }
   ],
   "source": [
    "x_0 = X_train[curr_mol]\n",
    "x_0.to(device)\n",
    "with torch.no_grad():\n",
    "    y_0_hat = model(x_0)\n",
    "    y_0 = x_0.y.cpu().numpy()\n",
    "    \n",
    "#system = Atoms(positions=y_0_hat.cpu().numpy(), symbols=x_0.atom_list)\n",
    "#ase.visualize.view(system, viewer=\"x3d\")\n",
    "\n",
    "system = Atoms(positions=y_0, symbols=x_0.atom_list)\n",
    "ase.visualize.view(system, viewer=\"ngl\")"
   ]
  },
  {
   "cell_type": "code",
   "execution_count": 324,
   "metadata": {},
   "outputs": [
    {
     "data": {
      "image/png": "[encoded data removed]",
      "text/plain": [
       "<rdkit.Chem.rdchem.Mol at 0x7fb8bef91c60>"
      ]
     },
     "execution_count": 324,
     "metadata": {},
     "output_type": "execute_result"
    }
   ],
   "source": [
    "mols[curr_mol].GetNumAtoms()\n",
    "mols[curr_mol]"
   ]
  },
  {
   "cell_type": "code",
   "execution_count": 326,
   "metadata": {},
   "outputs": [
    {
     "data": {
      "application/vnd.jupyter.widget-view+json": {
       "model_id": "9e11c4a1deae48bcbc995b3e6c61d98c",
       "version_major": 2,
       "version_minor": 0
      },
      "text/plain": [
       "HBox(children=(NGLWidget(), VBox(children=(Dropdown(description='Show', options=('All', 'N', 'C', 'O'), value=…"
      ]
     },
     "metadata": {},
     "output_type": "display_data"
    }
   ],
   "source": [
    "system = Atoms(positions=y_0_hat.cpu().numpy(), symbols=x_0.atom_list)\n",
    "ase.visualize.view(system, viewer=\"ngl\")"
   ]
  },
  {
   "cell_type": "code",
   "execution_count": null,
   "metadata": {},
   "outputs": [],
   "source": []
  }
 ],
 "metadata": {
  "kernelspec": {
   "display_name": "Python 3",
   "language": "python",
   "name": "python3"
  },
  "language_info": {
   "codemirror_mode": {
    "name": "ipython",
    "version": 3
   },
   "file_extension": ".py",
   "mimetype": "text/x-python",
   "name": "python",
   "nbconvert_exporter": "python",
   "pygments_lexer": "ipython3",
   "version": "3.6.9"
  }
 },
 "nbformat": 4,
 "nbformat_minor": 4
}
