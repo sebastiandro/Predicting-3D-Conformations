{
 "cells": [
  {
   "cell_type": "markdown",
   "metadata": {},
   "source": [
    "# 3D Conformation Prediction"
   ]
  },
  {
   "cell_type": "code",
   "execution_count": 1,
   "metadata": {},
   "outputs": [
    {
     "name": "stderr",
     "output_type": "stream",
     "text": [
      "/home/sebastian/.local/lib/python3.6/site-packages/sklearn/externals/joblib/__init__.py:15: FutureWarning: sklearn.externals.joblib is deprecated in 0.21 and will be removed in 0.23. Please import this functionality directly from joblib, which can be installed with: pip install joblib. If this warning is raised when loading pickled models, you may need to re-serialize those models with scikit-learn 0.21+.\n",
      "  warnings.warn(msg, category=FutureWarning)\n",
      "/home/sebastian/.local/lib/python3.6/site-packages/tensorflow/python/framework/dtypes.py:516: FutureWarning: Passing (type, 1) or '1type' as a synonym of type is deprecated; in a future version of numpy, it will be understood as (type, (1,)) / '(1,)type'.\n",
      "  _np_qint8 = np.dtype([(\"qint8\", np.int8, 1)])\n",
      "/home/sebastian/.local/lib/python3.6/site-packages/tensorflow/python/framework/dtypes.py:517: FutureWarning: Passing (type, 1) or '1type' as a synonym of type is deprecated; in a future version of numpy, it will be understood as (type, (1,)) / '(1,)type'.\n",
      "  _np_quint8 = np.dtype([(\"quint8\", np.uint8, 1)])\n",
      "/home/sebastian/.local/lib/python3.6/site-packages/tensorflow/python/framework/dtypes.py:518: FutureWarning: Passing (type, 1) or '1type' as a synonym of type is deprecated; in a future version of numpy, it will be understood as (type, (1,)) / '(1,)type'.\n",
      "  _np_qint16 = np.dtype([(\"qint16\", np.int16, 1)])\n",
      "/home/sebastian/.local/lib/python3.6/site-packages/tensorflow/python/framework/dtypes.py:519: FutureWarning: Passing (type, 1) or '1type' as a synonym of type is deprecated; in a future version of numpy, it will be understood as (type, (1,)) / '(1,)type'.\n",
      "  _np_quint16 = np.dtype([(\"quint16\", np.uint16, 1)])\n",
      "/home/sebastian/.local/lib/python3.6/site-packages/tensorflow/python/framework/dtypes.py:520: FutureWarning: Passing (type, 1) or '1type' as a synonym of type is deprecated; in a future version of numpy, it will be understood as (type, (1,)) / '(1,)type'.\n",
      "  _np_qint32 = np.dtype([(\"qint32\", np.int32, 1)])\n",
      "/home/sebastian/.local/lib/python3.6/site-packages/tensorflow/python/framework/dtypes.py:525: FutureWarning: Passing (type, 1) or '1type' as a synonym of type is deprecated; in a future version of numpy, it will be understood as (type, (1,)) / '(1,)type'.\n",
      "  np_resource = np.dtype([(\"resource\", np.ubyte, 1)])\n",
      "/home/sebastian/.local/lib/python3.6/site-packages/tensorboard/compat/tensorflow_stub/dtypes.py:541: FutureWarning: Passing (type, 1) or '1type' as a synonym of type is deprecated; in a future version of numpy, it will be understood as (type, (1,)) / '(1,)type'.\n",
      "  _np_qint8 = np.dtype([(\"qint8\", np.int8, 1)])\n",
      "/home/sebastian/.local/lib/python3.6/site-packages/tensorboard/compat/tensorflow_stub/dtypes.py:542: FutureWarning: Passing (type, 1) or '1type' as a synonym of type is deprecated; in a future version of numpy, it will be understood as (type, (1,)) / '(1,)type'.\n",
      "  _np_quint8 = np.dtype([(\"quint8\", np.uint8, 1)])\n",
      "/home/sebastian/.local/lib/python3.6/site-packages/tensorboard/compat/tensorflow_stub/dtypes.py:543: FutureWarning: Passing (type, 1) or '1type' as a synonym of type is deprecated; in a future version of numpy, it will be understood as (type, (1,)) / '(1,)type'.\n",
      "  _np_qint16 = np.dtype([(\"qint16\", np.int16, 1)])\n",
      "/home/sebastian/.local/lib/python3.6/site-packages/tensorboard/compat/tensorflow_stub/dtypes.py:544: FutureWarning: Passing (type, 1) or '1type' as a synonym of type is deprecated; in a future version of numpy, it will be understood as (type, (1,)) / '(1,)type'.\n",
      "  _np_quint16 = np.dtype([(\"quint16\", np.uint16, 1)])\n",
      "/home/sebastian/.local/lib/python3.6/site-packages/tensorboard/compat/tensorflow_stub/dtypes.py:545: FutureWarning: Passing (type, 1) or '1type' as a synonym of type is deprecated; in a future version of numpy, it will be understood as (type, (1,)) / '(1,)type'.\n",
      "  _np_qint32 = np.dtype([(\"qint32\", np.int32, 1)])\n",
      "/home/sebastian/.local/lib/python3.6/site-packages/tensorboard/compat/tensorflow_stub/dtypes.py:550: FutureWarning: Passing (type, 1) or '1type' as a synonym of type is deprecated; in a future version of numpy, it will be understood as (type, (1,)) / '(1,)type'.\n",
      "  np_resource = np.dtype([(\"resource\", np.ubyte, 1)])\n"
     ]
    }
   ],
   "source": [
    "import pandas as pd\n",
    "import numpy as np\n",
    "import os\n",
    "import glob\n",
    "import torch\n",
    "import torch.nn.functional as F\n",
    "from tqdm import tqdm\n",
    "from rdkit.Chem import MolFromSmiles"
   ]
  },
  {
   "cell_type": "markdown",
   "metadata": {},
   "source": [
    "## Load QM9"
   ]
  },
  {
   "cell_type": "code",
   "execution_count": 104,
   "metadata": {
    "scrolled": true
   },
   "outputs": [
    {
     "name": "stderr",
     "output_type": "stream",
     "text": [
      "100%|██████████| 133885/133885 [00:07<00:00, 17865.41it/s]\n"
     ]
    }
   ],
   "source": [
    "file_re = os.path.join('./qm92', '*.xyz')\n",
    "file_pathes = glob.glob(file_re)\n",
    "file_pathes.sort()\n",
    "ls = []\n",
    "_smiles_column_names = ['smiles1', 'smiles2']\n",
    "_label_names = ['A', 'B', 'C', 'mu', 'alpha', 'homo', 'lumo', 'gap', 'r2',\n",
    "                'zpve', 'U0', 'U', 'H', 'G', 'Cv']\n",
    "\n",
    "y = []\n",
    "for path in tqdm(file_pathes):\n",
    "    with open(path, 'r') as f:\n",
    "        data = [line.strip() for line in f]\n",
    "        \n",
    "    num_atom = int(data[0])\n",
    "    properties = list(map(float, data[1].split('\\t')[1:]))\n",
    "    for ix_pos in range(2,num_atom+2):\n",
    "        y.append(list(map(float, data[ix_pos].replabce('*^', 'e').split('\\t')[1:]))[:3])\n",
    "\n",
    "    smiles = data[3 + num_atom].split('\\t')\n",
    "    new_ls = smiles + properties\n",
    "    ls.append(new_ls)\n",
    "\n",
    "df = pd.DataFrame(ls, columns=_smiles_column_names + _label_names)"
   ]
  },
  {
   "cell_type": "code",
   "execution_count": 3,
   "metadata": {},
   "outputs": [
    {
     "data": {
      "text/html": [
       "<div>\n",
       "<style scoped>\n",
       "    .dataframe tbody tr th:only-of-type {\n",
       "        vertical-align: middle;\n",
       "    }\n",
       "\n",
       "    .dataframe tbody tr th {\n",
       "        vertical-align: top;\n",
       "    }\n",
       "\n",
       "    .dataframe thead th {\n",
       "        text-align: right;\n",
       "    }\n",
       "</style>\n",
       "<table border=\"1\" class=\"dataframe\">\n",
       "  <thead>\n",
       "    <tr style=\"text-align: right;\">\n",
       "      <th></th>\n",
       "      <th>smiles1</th>\n",
       "      <th>smiles2</th>\n",
       "      <th>A</th>\n",
       "      <th>B</th>\n",
       "      <th>C</th>\n",
       "      <th>mu</th>\n",
       "      <th>alpha</th>\n",
       "      <th>homo</th>\n",
       "      <th>lumo</th>\n",
       "      <th>gap</th>\n",
       "      <th>r2</th>\n",
       "      <th>zpve</th>\n",
       "      <th>U0</th>\n",
       "      <th>U</th>\n",
       "      <th>H</th>\n",
       "      <th>G</th>\n",
       "      <th>Cv</th>\n",
       "    </tr>\n",
       "  </thead>\n",
       "  <tbody>\n",
       "    <tr>\n",
       "      <th>29448</th>\n",
       "      <td>CC1=CNC2=C1C=CN2</td>\n",
       "      <td>Cc1c[nH]c2c1cc[nH]2</td>\n",
       "      <td>3.27238</td>\n",
       "      <td>1.60102</td>\n",
       "      <td>1.08224</td>\n",
       "      <td>3.1268</td>\n",
       "      <td>81.46</td>\n",
       "      <td>-0.1744</td>\n",
       "      <td>0.0510</td>\n",
       "      <td>0.2254</td>\n",
       "      <td>1082.3535</td>\n",
       "      <td>0.137925</td>\n",
       "      <td>-380.919684</td>\n",
       "      <td>-380.911277</td>\n",
       "      <td>-380.910333</td>\n",
       "      <td>-380.952982</td>\n",
       "      <td>31.189</td>\n",
       "    </tr>\n",
       "    <tr>\n",
       "      <th>117154</th>\n",
       "      <td>CCC(O)C(=O)COC</td>\n",
       "      <td>CC[C@@H](O)C(=O)COC</td>\n",
       "      <td>2.37554</td>\n",
       "      <td>1.04248</td>\n",
       "      <td>0.82763</td>\n",
       "      <td>2.0751</td>\n",
       "      <td>76.33</td>\n",
       "      <td>-0.2494</td>\n",
       "      <td>-0.0401</td>\n",
       "      <td>0.2093</td>\n",
       "      <td>1477.5839</td>\n",
       "      <td>0.179232</td>\n",
       "      <td>-461.365249</td>\n",
       "      <td>-461.354321</td>\n",
       "      <td>-461.353377</td>\n",
       "      <td>-461.402338</td>\n",
       "      <td>38.054</td>\n",
       "    </tr>\n",
       "    <tr>\n",
       "      <th>78765</th>\n",
       "      <td>CC1C2C3C2(O)CC13O</td>\n",
       "      <td>C[C@H]1[C@@H]2[C@H]3[C@]2(O)C[C@@]13O</td>\n",
       "      <td>2.51009</td>\n",
       "      <td>1.56975</td>\n",
       "      <td>1.26651</td>\n",
       "      <td>2.3262</td>\n",
       "      <td>74.72</td>\n",
       "      <td>-0.2392</td>\n",
       "      <td>0.0699</td>\n",
       "      <td>0.3091</td>\n",
       "      <td>1065.3161</td>\n",
       "      <td>0.157432</td>\n",
       "      <td>-422.970680</td>\n",
       "      <td>-422.962001</td>\n",
       "      <td>-422.961057</td>\n",
       "      <td>-423.003306</td>\n",
       "      <td>34.200</td>\n",
       "    </tr>\n",
       "    <tr>\n",
       "      <th>40246</th>\n",
       "      <td>C1NC11CCCN2CC12</td>\n",
       "      <td>C1N[C@]21CCCN1C[C@@H]21</td>\n",
       "      <td>2.71963</td>\n",
       "      <td>1.60011</td>\n",
       "      <td>1.22138</td>\n",
       "      <td>1.3324</td>\n",
       "      <td>82.28</td>\n",
       "      <td>-0.2167</td>\n",
       "      <td>0.0800</td>\n",
       "      <td>0.2967</td>\n",
       "      <td>1089.0067</td>\n",
       "      <td>0.185673</td>\n",
       "      <td>-383.225541</td>\n",
       "      <td>-383.217837</td>\n",
       "      <td>-383.216893</td>\n",
       "      <td>-383.257530</td>\n",
       "      <td>31.391</td>\n",
       "    </tr>\n",
       "    <tr>\n",
       "      <th>75106</th>\n",
       "      <td>NC1=NCC(=O)NC1=O</td>\n",
       "      <td>NC1=NCC(=O)NC1=O</td>\n",
       "      <td>3.12381</td>\n",
       "      <td>1.45091</td>\n",
       "      <td>0.99707</td>\n",
       "      <td>2.1045</td>\n",
       "      <td>66.49</td>\n",
       "      <td>-0.2469</td>\n",
       "      <td>-0.0596</td>\n",
       "      <td>0.1873</td>\n",
       "      <td>1090.6439</td>\n",
       "      <td>0.102715</td>\n",
       "      <td>-470.092168</td>\n",
       "      <td>-470.084333</td>\n",
       "      <td>-470.083388</td>\n",
       "      <td>-470.124831</td>\n",
       "      <td>29.101</td>\n",
       "    </tr>\n",
       "  </tbody>\n",
       "</table>\n",
       "</div>"
      ],
      "text/plain": [
       "                  smiles1                                smiles2        A  \\\n",
       "29448    CC1=CNC2=C1C=CN2                    Cc1c[nH]c2c1cc[nH]2  3.27238   \n",
       "117154     CCC(O)C(=O)COC                    CC[C@@H](O)C(=O)COC  2.37554   \n",
       "78765   CC1C2C3C2(O)CC13O  C[C@H]1[C@@H]2[C@H]3[C@]2(O)C[C@@]13O  2.51009   \n",
       "40246     C1NC11CCCN2CC12                C1N[C@]21CCCN1C[C@@H]21  2.71963   \n",
       "75106    NC1=NCC(=O)NC1=O                       NC1=NCC(=O)NC1=O  3.12381   \n",
       "\n",
       "              B        C      mu  alpha    homo    lumo     gap         r2  \\\n",
       "29448   1.60102  1.08224  3.1268  81.46 -0.1744  0.0510  0.2254  1082.3535   \n",
       "117154  1.04248  0.82763  2.0751  76.33 -0.2494 -0.0401  0.2093  1477.5839   \n",
       "78765   1.56975  1.26651  2.3262  74.72 -0.2392  0.0699  0.3091  1065.3161   \n",
       "40246   1.60011  1.22138  1.3324  82.28 -0.2167  0.0800  0.2967  1089.0067   \n",
       "75106   1.45091  0.99707  2.1045  66.49 -0.2469 -0.0596  0.1873  1090.6439   \n",
       "\n",
       "            zpve          U0           U           H           G      Cv  \n",
       "29448   0.137925 -380.919684 -380.911277 -380.910333 -380.952982  31.189  \n",
       "117154  0.179232 -461.365249 -461.354321 -461.353377 -461.402338  38.054  \n",
       "78765   0.157432 -422.970680 -422.962001 -422.961057 -423.003306  34.200  \n",
       "40246   0.185673 -383.225541 -383.217837 -383.216893 -383.257530  31.391  \n",
       "75106   0.102715 -470.092168 -470.084333 -470.083388 -470.124831  29.101  "
      ]
     },
     "execution_count": 3,
     "metadata": {},
     "output_type": "execute_result"
    }
   ],
   "source": [
    "df.sample(5)"
   ]
  },
  {
   "cell_type": "markdown",
   "metadata": {},
   "source": [
    "# Setting up dataset"
   ]
  },
  {
   "cell_type": "markdown",
   "metadata": {},
   "source": [
    "The first thing we want to do is to find a way of representing a molecule to our graph convolutional network. For this, we will make use of DeepChem which provides a number of 'featurizers'. In this case the features of an atom is a number of descriptors generated from RDKit."
   ]
  },
  {
   "cell_type": "code",
   "execution_count": 143,
   "metadata": {},
   "outputs": [],
   "source": [
    "mols = [MolFromSmiles(row.smiles1) for (ix,row) in df.iterrows()]\n",
    "data_list = []"
   ]
  },
  {
   "cell_type": "code",
   "execution_count": 68,
   "metadata": {},
   "outputs": [],
   "source": [
    "import networkx as nx\n",
    "\n",
    "def create_edge_index(A):\n",
    "    rows = []\n",
    "    cols = []\n",
    "    for i in range(A.shape[0]):\n",
    "        for j in range(A.shape[0]):\n",
    "            if A[i,j] == 1:\n",
    "                rows.append(i)\n",
    "                cols.append(j)\n",
    "    return rows, cols\n",
    "\n",
    "def get_molecule_features(m):\n",
    "    featurizer = ConvMolFeaturizer()\n",
    "    return featurizer.featurize([m])[0].get_atom_features()"
   ]
  },
  {
   "cell_type": "code",
   "execution_count": 106,
   "metadata": {},
   "outputs": [],
   "source": [
    "from deepchem.feat import RDKitDescriptors, ConvMolFeaturizer\n",
    "from rdkit.Chem.rdmolops import GetAdjacencyMatrix\n",
    "\n",
    "m = mols[50]\n",
    "molecule_featurized = get_molecule_features(m)\n",
    "A = GetAdjacencyMatrix(m)"
   ]
  },
  {
   "cell_type": "markdown",
   "metadata": {},
   "source": [
    "Let's see how our adjacency matrix looks. This matrix will be used in our graph convolutions."
   ]
  },
  {
   "cell_type": "code",
   "execution_count": 13,
   "metadata": {
    "scrolled": true
   },
   "outputs": [
    {
     "data": {
      "image/png": "[encoded data removed]",
      "text/plain": [
       "<Figure size 432x288 with 1 Axes>"
      ]
     },
     "metadata": {},
     "output_type": "display_data"
    }
   ],
   "source": [
    "D = nx.to_networkx_graph(A,create_using=nx.DiGraph())\n",
    "nx.draw(D)"
   ]
  },
  {
   "cell_type": "markdown",
   "metadata": {},
   "source": [
    "Let's see how the molecule looks in 2D according to RDKit"
   ]
  },
  {
   "cell_type": "code",
   "execution_count": 14,
   "metadata": {},
   "outputs": [
    {
     "data": {
      "image/png": "[encoded data removed]",
      "text/plain": [
       "<rdkit.Chem.rdchem.Mol at 0x7f016a83f670>"
      ]
     },
     "execution_count": 14,
     "metadata": {},
     "output_type": "execute_result"
    }
   ],
   "source": [
    "from rdkit.Chem import Draw\n",
    "from rdkit.Chem.AllChem import Compute2DCoords\n",
    "from rdkit.Chem.Draw import IPythonConsole\n",
    "m"
   ]
  },
  {
   "cell_type": "markdown",
   "metadata": {},
   "source": [
    "Let's repeat this for all molecules"
   ]
  },
  {
   "cell_type": "code",
   "execution_count": null,
   "metadata": {},
   "outputs": [],
   "source": [
    "from torch_geometric.data import Data, DataLoader\n",
    "from torchvision import transforms\n",
    "data_list = []\n",
    "featurizer = RDKitDescriptors()\n",
    "\n",
    "for ix, m in enumerate(mols):\n",
    "    mol_featurized = get_molecule_features(m)\n",
    "    A = GetAdjacencyMatrix(m)\n",
    "    edge_index = create_edge_index(A)\n",
    "    x = torch.tensor(mol_featurized)\n",
    "    x_min = torch.min(x)\n",
    "    range_x = torch.max(x) - torch.min(x)\n",
    "    x = (x - x_min) / range_x\n",
    "    d = Data(x=x, edge_index=torch.LongTensor(edge_index), y=torch.tensor(y[ix]))\n",
    "    data_list.append(d)"
   ]
  },
  {
   "cell_type": "code",
   "execution_count": null,
   "metadata": {},
   "outputs": [],
   "source": [
    "loader = DataLoader(data_list, batch_size=32)"
   ]
  },
  {
   "cell_type": "code",
   "execution_count": 135,
   "metadata": {},
   "outputs": [
    {
     "data": {
      "text/plain": [
       "Data(edge_index=[2, 14], x=[7, 75], y=[3])"
      ]
     },
     "execution_count": 135,
     "metadata": {},
     "output_type": "execute_result"
    }
   ],
   "source": [
    "loader.dataset[0]"
   ]
  },
  {
   "cell_type": "markdown",
   "metadata": {},
   "source": [
    "# Setting Up Graph Convolutional Network"
   ]
  },
  {
   "cell_type": "code",
   "execution_count": 118,
   "metadata": {},
   "outputs": [],
   "source": [
    "from torch_geometric.nn import GCNConv\n",
    "\n",
    "class Net(torch.nn.Module):\n",
    "    def __init__(self):\n",
    "        super(Net, self).__init__()\n",
    "        self.conv1 = GCNConv(75, 16)\n",
    "        self.conv2 = GCNConv(16, 16)\n",
    "        self.conv3 = GCNConv(16, 3)\n",
    "\n",
    "    def forward(self, data):\n",
    "        x, edge_index = data.x, data.edge_index\n",
    "\n",
    "        x = self.conv1(x, edge_index)\n",
    "        x = F.relu(x)\n",
    "        x = F.dropout(x, training=self.training)\n",
    "        x = self.conv2(x, edge_index)\n",
    "        x = F.relu(x)\n",
    "        x = self.conv3(x, edge_index)\n",
    "        \n",
    "        return F.log_softmax(x, dim=1)"
   ]
  },
  {
   "cell_type": "code",
   "execution_count": 119,
   "metadata": {},
   "outputs": [],
   "source": [
    "device = torch.device('cuda' if torch.cuda.is_available() else 'cpu')\n",
    "model = Net().to(device)\n",
    "data = loader.dataset[0].to(device)\n",
    "optimizer = torch.optim.Adam(model.parameters(), lr=0.01, weight_decay=5e-4)"
   ]
  },
  {
   "cell_type": "code",
   "execution_count": 120,
   "metadata": {},
   "outputs": [
    {
     "name": "stdout",
     "output_type": "stream",
     "text": [
      "tensor([[-1.1205, -1.1731, -1.0092],\n",
      "        [-1.1014, -1.1832, -1.0181],\n",
      "        [-1.0497, -1.1724, -1.0779],\n",
      "        [-1.0788, -1.1516, -1.0675],\n",
      "        [-1.1006, -1.1437, -1.0536],\n",
      "        [-1.1220, -1.1450, -1.0323],\n",
      "        [-1.1193, -1.1254, -1.0527]], device='cuda:0', dtype=torch.float64,\n",
      "       grad_fn=<LogSoftmaxBackward>)\n",
      "[-0.0126981359, 1.0858041578, 0.0080009958]\n"
     ]
    }
   ],
   "source": [
    "model.double()\n",
    "model.train()\n",
    "for epoch in range(1):\n",
    "    optimizer.zero_grad()\n",
    "    out = model(data)\n",
    "    print(out)\n",
    "    print(y[0])\n",
    "    #loss = F.nll_loss(out, torch.long(3))\n",
    "    #loss.backward()\n",
    "    #optimizer.step()"
   ]
  },
  {
   "cell_type": "code",
   "execution_count": null,
   "metadata": {},
   "outputs": [],
   "source": [
    "§"
   ]
  }
 ],
 "metadata": {
  "kernelspec": {
   "display_name": "Python 3",
   "language": "python",
   "name": "python3"
  },
  "language_info": {
   "codemirror_mode": {
    "name": "ipython",
    "version": 3
   },
   "file_extension": ".py",
   "mimetype": "text/x-python",
   "name": "python",
   "nbconvert_exporter": "python",
   "pygments_lexer": "ipython3",
   "version": "3.6.9"
  }
 },
 "nbformat": 4,
 "nbformat_minor": 4
}
