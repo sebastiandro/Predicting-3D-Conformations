{
 "cells": [
  {
   "cell_type": "markdown",
   "metadata": {},
   "source": [
    "# 3D Conformation Prediction"
   ]
  },
  {
   "cell_type": "code",
   "execution_count": 4,
   "metadata": {},
   "outputs": [],
   "source": [
    "import pandas as pd\n",
    "import numpy as np\n",
    "import os\n",
    "import glob\n",
    "import torch\n",
    "import torch.nn.functional as F\n",
    "from tqdm import tqdm\n",
    "from rdkit.Chem import MolFromSmiles"
   ]
  },
  {
   "cell_type": "markdown",
   "metadata": {},
   "source": [
    "## Load QM9"
   ]
  },
  {
   "cell_type": "code",
   "execution_count": 5,
   "metadata": {
    "scrolled": false
   },
   "outputs": [
    {
     "name": "stderr",
     "output_type": "stream",
     "text": [
      "100%|██████████| 133885/133885 [00:03<00:00, 41696.28it/s]\n"
     ]
    }
   ],
   "source": [
    "file_re = os.path.join('./qm92', '*.xyz')\n",
    "file_pathes = glob.glob(file_re)\n",
    "file_pathes.sort()\n",
    "ls = []\n",
    "_smiles_column_names = ['smiles1', 'smiles2']\n",
    "_label_names = ['A', 'B', 'C', 'mu', 'alpha', 'homo', 'lumo', 'gap', 'r2',\n",
    "                'zpve', 'U0', 'U', 'H', 'G', 'Cv']\n",
    "for path in tqdm(file_pathes):\n",
    "    with open(path, 'r') as f:\n",
    "        data = [line.strip() for line in f]\n",
    "    num_atom = int(data[0])\n",
    "    properties = list(map(float, data[1].split('\\t')[1:]))\n",
    "    smiles = data[3 + num_atom].split('\\t')\n",
    "    new_ls = smiles + properties\n",
    "    ls.append(new_ls)\n",
    "\n",
    "df = pd.DataFrame(ls, columns=_smiles_column_names + _label_names)"
   ]
  },
  {
   "cell_type": "code",
   "execution_count": 6,
   "metadata": {},
   "outputs": [
    {
     "data": {
      "text/html": [
       "<div>\n",
       "<style scoped>\n",
       "    .dataframe tbody tr th:only-of-type {\n",
       "        vertical-align: middle;\n",
       "    }\n",
       "\n",
       "    .dataframe tbody tr th {\n",
       "        vertical-align: top;\n",
       "    }\n",
       "\n",
       "    .dataframe thead th {\n",
       "        text-align: right;\n",
       "    }\n",
       "</style>\n",
       "<table border=\"1\" class=\"dataframe\">\n",
       "  <thead>\n",
       "    <tr style=\"text-align: right;\">\n",
       "      <th></th>\n",
       "      <th>smiles1</th>\n",
       "      <th>smiles2</th>\n",
       "      <th>A</th>\n",
       "      <th>B</th>\n",
       "      <th>C</th>\n",
       "      <th>mu</th>\n",
       "      <th>alpha</th>\n",
       "      <th>homo</th>\n",
       "      <th>lumo</th>\n",
       "      <th>gap</th>\n",
       "      <th>r2</th>\n",
       "      <th>zpve</th>\n",
       "      <th>U0</th>\n",
       "      <th>U</th>\n",
       "      <th>H</th>\n",
       "      <th>G</th>\n",
       "      <th>Cv</th>\n",
       "    </tr>\n",
       "  </thead>\n",
       "  <tbody>\n",
       "    <tr>\n",
       "      <th>38919</th>\n",
       "      <td>C1C2OC22C=CCCC12</td>\n",
       "      <td>C1[C@@H]2O[C@]32C=CCC[C@@H]13</td>\n",
       "      <td>3.09182</td>\n",
       "      <td>1.67290</td>\n",
       "      <td>1.21199</td>\n",
       "      <td>2.0922</td>\n",
       "      <td>81.76</td>\n",
       "      <td>-0.2227</td>\n",
       "      <td>0.0047</td>\n",
       "      <td>0.2274</td>\n",
       "      <td>1037.6700</td>\n",
       "      <td>0.161395</td>\n",
       "      <td>-385.872086</td>\n",
       "      <td>-385.865020</td>\n",
       "      <td>-385.864076</td>\n",
       "      <td>-385.903272</td>\n",
       "      <td>29.219</td>\n",
       "    </tr>\n",
       "    <tr>\n",
       "      <th>126092</th>\n",
       "      <td>CC1OCC2=C1ON=N2</td>\n",
       "      <td>C[C@H]1OC[C](C1=O)[N][N]</td>\n",
       "      <td>3.13431</td>\n",
       "      <td>1.29988</td>\n",
       "      <td>0.96275</td>\n",
       "      <td>2.4703</td>\n",
       "      <td>76.25</td>\n",
       "      <td>-0.2423</td>\n",
       "      <td>-0.0719</td>\n",
       "      <td>0.1705</td>\n",
       "      <td>1163.2102</td>\n",
       "      <td>0.111538</td>\n",
       "      <td>-453.942786</td>\n",
       "      <td>-453.934392</td>\n",
       "      <td>-453.933447</td>\n",
       "      <td>-453.976315</td>\n",
       "      <td>29.655</td>\n",
       "    </tr>\n",
       "    <tr>\n",
       "      <th>2099</th>\n",
       "      <td>OC1CCCC=C1</td>\n",
       "      <td>O[C@H]1CCCC=C1</td>\n",
       "      <td>4.58846</td>\n",
       "      <td>2.32032</td>\n",
       "      <td>1.68173</td>\n",
       "      <td>1.7620</td>\n",
       "      <td>65.34</td>\n",
       "      <td>-0.2416</td>\n",
       "      <td>0.0165</td>\n",
       "      <td>0.2581</td>\n",
       "      <td>761.2575</td>\n",
       "      <td>0.150411</td>\n",
       "      <td>-309.735245</td>\n",
       "      <td>-309.728618</td>\n",
       "      <td>-309.727674</td>\n",
       "      <td>-309.765479</td>\n",
       "      <td>25.872</td>\n",
       "    </tr>\n",
       "    <tr>\n",
       "      <th>21688</th>\n",
       "      <td>NC1=NOC=C1CO</td>\n",
       "      <td>Nc1nocc1CO</td>\n",
       "      <td>3.45247</td>\n",
       "      <td>1.76756</td>\n",
       "      <td>1.17967</td>\n",
       "      <td>4.4030</td>\n",
       "      <td>59.54</td>\n",
       "      <td>-0.2321</td>\n",
       "      <td>0.0093</td>\n",
       "      <td>0.2414</td>\n",
       "      <td>946.6396</td>\n",
       "      <td>0.107732</td>\n",
       "      <td>-415.841598</td>\n",
       "      <td>-415.833922</td>\n",
       "      <td>-415.832978</td>\n",
       "      <td>-415.874115</td>\n",
       "      <td>27.477</td>\n",
       "    </tr>\n",
       "    <tr>\n",
       "      <th>36590</th>\n",
       "      <td>N#CCCC1(CN1)C#N</td>\n",
       "      <td>N#CCC[C@]1(CN1)C#N</td>\n",
       "      <td>2.96878</td>\n",
       "      <td>0.92478</td>\n",
       "      <td>0.76848</td>\n",
       "      <td>4.0953</td>\n",
       "      <td>74.07</td>\n",
       "      <td>-0.2905</td>\n",
       "      <td>0.0042</td>\n",
       "      <td>0.2947</td>\n",
       "      <td>1428.4595</td>\n",
       "      <td>0.124361</td>\n",
       "      <td>-396.927985</td>\n",
       "      <td>-396.919088</td>\n",
       "      <td>-396.918144</td>\n",
       "      <td>-396.962501</td>\n",
       "      <td>31.474</td>\n",
       "    </tr>\n",
       "  </tbody>\n",
       "</table>\n",
       "</div>"
      ],
      "text/plain": [
       "                 smiles1                        smiles2        A        B  \\\n",
       "38919   C1C2OC22C=CCCC12  C1[C@@H]2O[C@]32C=CCC[C@@H]13  3.09182  1.67290   \n",
       "126092   CC1OCC2=C1ON=N2       C[C@H]1OC[C](C1=O)[N][N]  3.13431  1.29988   \n",
       "2099          OC1CCCC=C1                 O[C@H]1CCCC=C1  4.58846  2.32032   \n",
       "21688       NC1=NOC=C1CO                     Nc1nocc1CO  3.45247  1.76756   \n",
       "36590    N#CCCC1(CN1)C#N             N#CCC[C@]1(CN1)C#N  2.96878  0.92478   \n",
       "\n",
       "              C      mu  alpha    homo    lumo     gap         r2      zpve  \\\n",
       "38919   1.21199  2.0922  81.76 -0.2227  0.0047  0.2274  1037.6700  0.161395   \n",
       "126092  0.96275  2.4703  76.25 -0.2423 -0.0719  0.1705  1163.2102  0.111538   \n",
       "2099    1.68173  1.7620  65.34 -0.2416  0.0165  0.2581   761.2575  0.150411   \n",
       "21688   1.17967  4.4030  59.54 -0.2321  0.0093  0.2414   946.6396  0.107732   \n",
       "36590   0.76848  4.0953  74.07 -0.2905  0.0042  0.2947  1428.4595  0.124361   \n",
       "\n",
       "                U0           U           H           G      Cv  \n",
       "38919  -385.872086 -385.865020 -385.864076 -385.903272  29.219  \n",
       "126092 -453.942786 -453.934392 -453.933447 -453.976315  29.655  \n",
       "2099   -309.735245 -309.728618 -309.727674 -309.765479  25.872  \n",
       "21688  -415.841598 -415.833922 -415.832978 -415.874115  27.477  \n",
       "36590  -396.927985 -396.919088 -396.918144 -396.962501  31.474  "
      ]
     },
     "execution_count": 6,
     "metadata": {},
     "output_type": "execute_result"
    }
   ],
   "source": [
    "df.sample(5)"
   ]
  },
  {
   "cell_type": "markdown",
   "metadata": {},
   "source": [
    "# Setting up dataset"
   ]
  },
  {
   "cell_type": "markdown",
   "metadata": {},
   "source": [
    "The first thing we want to do is to find a way of representing a molecule to our graph convolutional network. For this, we will make use of DeepChem which provides a number of 'featurizers'. In this case the features of an atom is a number of descriptors generated from RDKit."
   ]
  },
  {
   "cell_type": "code",
   "execution_count": 7,
   "metadata": {},
   "outputs": [],
   "source": [
    "mols = [MolFromSmiles(row.smiles1) for (ix,row) in df.iterrows()]\n",
    "data_list = []"
   ]
  },
  {
   "cell_type": "code",
   "execution_count": 29,
   "metadata": {},
   "outputs": [],
   "source": [
    "import networkx as nx\n",
    "\n",
    "def create_edge_index(A):\n",
    "    rows = []\n",
    "    cols = []\n",
    "    for i in range(A.shape[0]):\n",
    "        for j in range(A.shape[0]):\n",
    "            if A[i,j] == 1:\n",
    "                rows.append(i)\n",
    "                cols.append(j)\n",
    "    return rows, cols"
   ]
  },
  {
   "cell_type": "code",
   "execution_count": 45,
   "metadata": {},
   "outputs": [
    {
     "data": {
      "text/plain": [
       "([0, 1, 1, 2, 2, 2, 3, 3, 4, 4, 4, 4, 5, 6],\n",
       " [1, 0, 2, 1, 3, 4, 2, 4, 2, 3, 5, 6, 4, 4])"
      ]
     },
     "execution_count": 45,
     "metadata": {},
     "output_type": "execute_result"
    }
   ],
   "source": [
    "from deepchem.feat import RDKitDescriptors\n",
    "from rdkit.Chem.rdmolops import GetAdjacencyMatrix\n",
    "\n",
    "m = mols[1337]\n",
    "featurizer = RDKitDescriptors()\n",
    "mol_featurized = featurizer.featurize([m])\n",
    "A = GetAdjacencyMatrix(m)\n",
    "create_edge_index(A)"
   ]
  },
  {
   "cell_type": "markdown",
   "metadata": {},
   "source": [
    "Let's see how our adjacency matrix looks. This matrix will be used in our graph convolutions."
   ]
  },
  {
   "cell_type": "code",
   "execution_count": 25,
   "metadata": {
    "scrolled": true
   },
   "outputs": [
    {
     "data": {
      "image/png": "[encoded data removed]",
      "text/plain": [
       "<Figure size 432x288 with 1 Axes>"
      ]
     },
     "metadata": {},
     "output_type": "display_data"
    }
   ],
   "source": [
    "D = nx.to_networkx_graph(A,create_using=nx.DiGraph())\n",
    "nx.draw(D)"
   ]
  },
  {
   "cell_type": "markdown",
   "metadata": {},
   "source": [
    "Let's see how the molecule looks in 2D according to RDKit"
   ]
  },
  {
   "cell_type": "code",
   "execution_count": 24,
   "metadata": {},
   "outputs": [
    {
     "data": {
      "image/png": "[encoded data removed]",
      "text/plain": [
       "<rdkit.Chem.rdchem.Mol at 0x7fba37880490>"
      ]
     },
     "execution_count": 24,
     "metadata": {},
     "output_type": "execute_result"
    }
   ],
   "source": [
    "from rdkit.Chem import Draw\n",
    "from rdkit.Chem.AllChem import Compute2DCoords\n",
    "from rdkit.Chem.Draw import IPythonConsole\n",
    "m"
   ]
  },
  {
   "cell_type": "markdown",
   "metadata": {},
   "source": [
    "Let's repeat this for all molecules"
   ]
  },
  {
   "cell_type": "code",
   "execution_count": null,
   "metadata": {},
   "outputs": [],
   "source": [
    "from torch_geometric.data import Data, DataLoader\n",
    "data_list = []\n",
    "featurizer = RDKitDescriptors()\n",
    "\n",
    "for m in mols:\n",
    "    mol_featurized = featurizer.featurize([m])\n",
    "    A = GetAdjacencyMatrix(m)\n",
    "    edge_index = create_edge_index(A)\n",
    "    d = Data(x=torch.tensor(mol_featurized), edge_index=torch.tensor(edge_index)) \n",
    "    data_list.append(d)"
   ]
  },
  {
   "cell_type": "code",
   "execution_count": null,
   "metadata": {},
   "outputs": [],
   "source": [
    "loader = DataLoader(data_list, batch_size=32)"
   ]
  },
  {
   "cell_type": "markdown",
   "metadata": {},
   "source": [
    "# Setting Up Graph Convolutional Network"
   ]
  },
  {
   "cell_type": "code",
   "execution_count": 38,
   "metadata": {},
   "outputs": [],
   "source": [
    "from torch_geometric.nn import GCNConv\n",
    "\n",
    "class Net(torch.nn.Module):\n",
    "    def __init__(self):\n",
    "        super(Net, self).__init__()\n",
    "        self.conv1 = GCNConv(111, 16)\n",
    "        self.conv2 = GCNConv(16, 16)\n",
    "        self.conv3 = GCNConv(16, dataset.num_classes)\n",
    "\n",
    "    def forward(self, data):\n",
    "        x, edge_index = data.x, data.edge_index\n",
    "\n",
    "        x = self.conv1(x, edge_index)\n",
    "        x = F.relu(x)\n",
    "        x = F.dropout(x, training=self.training)\n",
    "        x = self.conv2(x, edge_index)\n",
    "        x = F.relu(x)\n",
    "        x = self.conv3(x, edge_index)\n",
    "        \n",
    "        return F.log_softmax(x, dim=1)"
   ]
  }
 ],
 "metadata": {
  "kernelspec": {
   "display_name": "Python 3",
   "language": "python",
   "name": "python3"
  },
  "language_info": {
   "codemirror_mode": {
    "name": "ipython",
    "version": 3
   },
   "file_extension": ".py",
   "mimetype": "text/x-python",
   "name": "python",
   "nbconvert_exporter": "python",
   "pygments_lexer": "ipython3",
   "version": "3.6.9"
  }
 },
 "nbformat": 4,
 "nbformat_minor": 4
}
