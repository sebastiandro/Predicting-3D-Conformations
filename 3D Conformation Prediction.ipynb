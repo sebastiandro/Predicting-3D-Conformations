{
 "cells": [
  {
   "cell_type": "markdown",
   "metadata": {},
   "source": [
    "# 3D Conformation Prediction"
   ]
  },
  {
   "cell_type": "code",
   "execution_count": 1080,
   "metadata": {},
   "outputs": [],
   "source": [
    "import pandas as pd\n",
    "import numpy as np\n",
    "import os\n",
    "import glob\n",
    "import torch\n",
    "import torch.nn.functional as F\n",
    "from tqdm import tqdm\n",
    "from rdkit.Chem import MolFromSmiles"
   ]
  },
  {
   "cell_type": "code",
   "execution_count": 1081,
   "metadata": {},
   "outputs": [],
   "source": [
    "from IPython import get_ipython\n",
    "\n",
    "def tqdm_clear(*args, **kwargs):\n",
    "    from tqdm import tqdm\n",
    "    getattr(tqdm, '_instances', {}).clear()\n",
    "\n",
    "get_ipython().events.register('post_execute', tqdm_clear)"
   ]
  },
  {
   "cell_type": "markdown",
   "metadata": {},
   "source": [
    "## Load QM9"
   ]
  },
  {
   "cell_type": "code",
   "execution_count": 1099,
   "metadata": {
    "scrolled": true
   },
   "outputs": [
    {
     "name": "stderr",
     "output_type": "stream",
     "text": [
      " 28%|██▊       | 29/104 [01:23<03:35,  2.87s/it]0.29it/s]\n",
      "100%|██████████| 133885/133885 [00:05<00:00, 23208.47it/s]\n"
     ]
    }
   ],
   "source": [
    "file_re = os.path.join('./qm92', '*.xyz')\n",
    "file_pathes = glob.glob(file_re)\n",
    "file_pathes.sort()\n",
    "ls = []\n",
    "_smiles_column_names = ['smiles1', 'smiles2']\n",
    "_label_names = ['A', 'B', 'C', 'mu', 'alpha', 'homo', 'lumo', 'gap', 'r2',\n",
    "                'zpve', 'U0', 'U', 'H', 'G', 'Cv']\n",
    "\n",
    "y = []\n",
    "for ix,path in enumerate(tqdm(file_pathes)):\n",
    "    with open(path, 'r') as f:\n",
    "        data = [line.strip() for line in f]\n",
    "        \n",
    "    num_atom = int(data[0])\n",
    "    # We're only interested in molecules with 3 or more molecules\n",
    "    if num_atom < 3:\n",
    "        continue\n",
    "    properties = list(map(float, data[1].split('\\t')[1:]))\n",
    "    ys = []\n",
    "    for ix_pos in range(2,num_atom+2):\n",
    "        if not data[ix_pos][0] == 'H':\n",
    "            ys.append(list(map(float, data[ix_pos].replace('*^', 'e').split('\\t')[1:]))[:3])\n",
    "\n",
    "    if len(ys) < 3:\n",
    "        continue\n",
    "    y.append(ys)\n",
    "\n",
    "    smiles = data[3 + num_atom].split('\\t')\n",
    "    new_ls = smiles + properties\n",
    "    ls.append(new_ls)\n",
    "\n",
    "df = pd.DataFrame(ls, columns= _smiles_column_names + _label_names)"
   ]
  },
  {
   "cell_type": "code",
   "execution_count": 1100,
   "metadata": {
    "scrolled": false
   },
   "outputs": [
    {
     "data": {
      "text/html": [
       "<div>\n",
       "<style scoped>\n",
       "    .dataframe tbody tr th:only-of-type {\n",
       "        vertical-align: middle;\n",
       "    }\n",
       "\n",
       "    .dataframe tbody tr th {\n",
       "        vertical-align: top;\n",
       "    }\n",
       "\n",
       "    .dataframe thead th {\n",
       "        text-align: right;\n",
       "    }\n",
       "</style>\n",
       "<table border=\"1\" class=\"dataframe\">\n",
       "  <thead>\n",
       "    <tr style=\"text-align: right;\">\n",
       "      <th></th>\n",
       "      <th>smiles1</th>\n",
       "      <th>smiles2</th>\n",
       "      <th>A</th>\n",
       "      <th>B</th>\n",
       "      <th>C</th>\n",
       "      <th>mu</th>\n",
       "      <th>alpha</th>\n",
       "      <th>homo</th>\n",
       "      <th>lumo</th>\n",
       "      <th>gap</th>\n",
       "      <th>r2</th>\n",
       "      <th>zpve</th>\n",
       "      <th>U0</th>\n",
       "      <th>U</th>\n",
       "      <th>H</th>\n",
       "      <th>G</th>\n",
       "      <th>Cv</th>\n",
       "    </tr>\n",
       "  </thead>\n",
       "  <tbody>\n",
       "    <tr>\n",
       "      <th>82163</th>\n",
       "      <td>CC1C2CC2(O)C2CN12</td>\n",
       "      <td>C[C@H]1[C@@H]2C[C@]2(O)[C@H]2CN12</td>\n",
       "      <td>2.63160</td>\n",
       "      <td>1.62494</td>\n",
       "      <td>1.31235</td>\n",
       "      <td>1.2272</td>\n",
       "      <td>77.85</td>\n",
       "      <td>-0.2280</td>\n",
       "      <td>0.0735</td>\n",
       "      <td>0.3015</td>\n",
       "      <td>1052.7234</td>\n",
       "      <td>0.171522</td>\n",
       "      <td>-403.113060</td>\n",
       "      <td>-403.104932</td>\n",
       "      <td>-403.103988</td>\n",
       "      <td>-403.145095</td>\n",
       "      <td>32.888</td>\n",
       "    </tr>\n",
       "    <tr>\n",
       "      <th>128416</th>\n",
       "      <td>CNCC1=NOC(C)=N1</td>\n",
       "      <td>CNCc1noc(C)n1</td>\n",
       "      <td>4.90898</td>\n",
       "      <td>0.89182</td>\n",
       "      <td>0.82165</td>\n",
       "      <td>1.9299</td>\n",
       "      <td>74.12</td>\n",
       "      <td>-0.2248</td>\n",
       "      <td>-0.0170</td>\n",
       "      <td>0.2077</td>\n",
       "      <td>1444.0898</td>\n",
       "      <td>0.147633</td>\n",
       "      <td>-435.269120</td>\n",
       "      <td>-435.259876</td>\n",
       "      <td>-435.258931</td>\n",
       "      <td>-435.304285</td>\n",
       "      <td>32.150</td>\n",
       "    </tr>\n",
       "    <tr>\n",
       "      <th>39202</th>\n",
       "      <td>C1C2CC1C1NC1CO2</td>\n",
       "      <td>C1[C@H]2C[C@@H]1[C@H]1N[C@H]1CO2</td>\n",
       "      <td>2.48063</td>\n",
       "      <td>2.00204</td>\n",
       "      <td>1.50992</td>\n",
       "      <td>2.4522</td>\n",
       "      <td>77.72</td>\n",
       "      <td>-0.2355</td>\n",
       "      <td>0.0654</td>\n",
       "      <td>0.3009</td>\n",
       "      <td>952.9848</td>\n",
       "      <td>0.174639</td>\n",
       "      <td>-403.102586</td>\n",
       "      <td>-403.095653</td>\n",
       "      <td>-403.094709</td>\n",
       "      <td>-403.133486</td>\n",
       "      <td>29.243</td>\n",
       "    </tr>\n",
       "    <tr>\n",
       "      <th>32781</th>\n",
       "      <td>CCCC1=C(N)OC=N1</td>\n",
       "      <td>CCCc1c(N)ocn1</td>\n",
       "      <td>3.22283</td>\n",
       "      <td>0.97504</td>\n",
       "      <td>0.78583</td>\n",
       "      <td>2.5417</td>\n",
       "      <td>79.09</td>\n",
       "      <td>-0.1976</td>\n",
       "      <td>0.0220</td>\n",
       "      <td>0.2195</td>\n",
       "      <td>1476.0310</td>\n",
       "      <td>0.159694</td>\n",
       "      <td>-419.246526</td>\n",
       "      <td>-419.237155</td>\n",
       "      <td>-419.236211</td>\n",
       "      <td>-419.281674</td>\n",
       "      <td>33.688</td>\n",
       "    </tr>\n",
       "    <tr>\n",
       "      <th>46148</th>\n",
       "      <td>O=C1COC(CO1)C#C</td>\n",
       "      <td>O=C1CO[C@@H](CO1)C#C</td>\n",
       "      <td>4.86241</td>\n",
       "      <td>1.03714</td>\n",
       "      <td>0.88200</td>\n",
       "      <td>3.5025</td>\n",
       "      <td>68.39</td>\n",
       "      <td>-0.2601</td>\n",
       "      <td>-0.0001</td>\n",
       "      <td>0.2600</td>\n",
       "      <td>1233.6663</td>\n",
       "      <td>0.111699</td>\n",
       "      <td>-457.748224</td>\n",
       "      <td>-457.740130</td>\n",
       "      <td>-457.739186</td>\n",
       "      <td>-457.781247</td>\n",
       "      <td>29.673</td>\n",
       "    </tr>\n",
       "  </tbody>\n",
       "</table>\n",
       "</div>"
      ],
      "text/plain": [
       "                  smiles1                            smiles2        A  \\\n",
       "82163   CC1C2CC2(O)C2CN12  C[C@H]1[C@@H]2C[C@]2(O)[C@H]2CN12  2.63160   \n",
       "128416    CNCC1=NOC(C)=N1                      CNCc1noc(C)n1  4.90898   \n",
       "39202     C1C2CC1C1NC1CO2   C1[C@H]2C[C@@H]1[C@H]1N[C@H]1CO2  2.48063   \n",
       "32781     CCCC1=C(N)OC=N1                      CCCc1c(N)ocn1  3.22283   \n",
       "46148     O=C1COC(CO1)C#C               O=C1CO[C@@H](CO1)C#C  4.86241   \n",
       "\n",
       "              B        C      mu  alpha    homo    lumo     gap         r2  \\\n",
       "82163   1.62494  1.31235  1.2272  77.85 -0.2280  0.0735  0.3015  1052.7234   \n",
       "128416  0.89182  0.82165  1.9299  74.12 -0.2248 -0.0170  0.2077  1444.0898   \n",
       "39202   2.00204  1.50992  2.4522  77.72 -0.2355  0.0654  0.3009   952.9848   \n",
       "32781   0.97504  0.78583  2.5417  79.09 -0.1976  0.0220  0.2195  1476.0310   \n",
       "46148   1.03714  0.88200  3.5025  68.39 -0.2601 -0.0001  0.2600  1233.6663   \n",
       "\n",
       "            zpve          U0           U           H           G      Cv  \n",
       "82163   0.171522 -403.113060 -403.104932 -403.103988 -403.145095  32.888  \n",
       "128416  0.147633 -435.269120 -435.259876 -435.258931 -435.304285  32.150  \n",
       "39202   0.174639 -403.102586 -403.095653 -403.094709 -403.133486  29.243  \n",
       "32781   0.159694 -419.246526 -419.237155 -419.236211 -419.281674  33.688  \n",
       "46148   0.111699 -457.748224 -457.740130 -457.739186 -457.781247  29.673  "
      ]
     },
     "execution_count": 1100,
     "metadata": {},
     "output_type": "execute_result"
    }
   ],
   "source": [
    "df.sample(5)"
   ]
  },
  {
   "cell_type": "code",
   "execution_count": null,
   "metadata": {},
   "outputs": [],
   "source": []
  },
  {
   "cell_type": "markdown",
   "metadata": {},
   "source": [
    "# Setting up dataset"
   ]
  },
  {
   "cell_type": "markdown",
   "metadata": {},
   "source": [
    "The first thing we want to do is to find a way of representing a molecule to our graph convolutional network. For this, we will make use of DeepChem which provides a number of 'featurizers'. In this case the features of an atom is a number of descriptors generated from RDKit."
   ]
  },
  {
   "cell_type": "code",
   "execution_count": 1101,
   "metadata": {},
   "outputs": [],
   "source": [
    "mols = [MolFromSmiles(row.smiles1) for (ix,row) in df.iterrows()]"
   ]
  },
  {
   "cell_type": "code",
   "execution_count": 1161,
   "metadata": {},
   "outputs": [],
   "source": [
    "from rdkit.Chem import AllChem\n",
    "fingerprints = []\n",
    "for m in mols:\n",
    "    fp1 = AllChem.GetMorganFingerprintAsBitVect(m, useChirality=True, radius=2, nBits=1024)\n",
    "    vec1 = np.array(fp1);\n",
    "    fingerprints.append(vec1)"
   ]
  },
  {
   "cell_type": "code",
   "execution_count": 1085,
   "metadata": {},
   "outputs": [],
   "source": [
    "import networkx as nx\n",
    "\n",
    "def create_edge_index(A):\n",
    "    rows = []\n",
    "    cols = []\n",
    "    for i in range(A.shape[0]):\n",
    "        for j in range(A.shape[0]):\n",
    "            if A[i,j] == 1:\n",
    "                rows.append(i)\n",
    "                cols.append(j)\n",
    "    return rows, cols\n",
    "\n",
    "def get_molecule_features(m):\n",
    "    featurizer = ConvMolFeaturizer()\n",
    "    return featurizer.featurize([m])[0].get_atom_features()"
   ]
  },
  {
   "cell_type": "code",
   "execution_count": 355,
   "metadata": {},
   "outputs": [],
   "source": [
    "from deepchem.feat import RDKitDescriptors, ConvMolFeaturizer\n",
    "from rdkit.Chem.rdmolops import GetAdjacencyMatrix\n",
    "\n",
    "m = mols[50]\n",
    "molecule_featurized = get_molecule_features(m)\n",
    "A = GetAdjacencyMatrix(m)"
   ]
  },
  {
   "cell_type": "markdown",
   "metadata": {},
   "source": [
    "Let's see how our adjacency matrix looks. This matrix will be used in our graph convolutions."
   ]
  },
  {
   "cell_type": "code",
   "execution_count": 13,
   "metadata": {
    "scrolled": true
   },
   "outputs": [
    {
     "data": {
      "image/png": "[encoded data removed]",
      "text/plain": [
       "<Figure size 432x288 with 1 Axes>"
      ]
     },
     "metadata": {},
     "output_type": "display_data"
    }
   ],
   "source": [
    "D = nx.to_networkx_graph(A,create_using=nx.DiGraph())\n",
    "nx.draw(D)"
   ]
  },
  {
   "cell_type": "markdown",
   "metadata": {},
   "source": [
    "Let's see how the molecule looks in 2D according to RDKit"
   ]
  },
  {
   "cell_type": "code",
   "execution_count": 14,
   "metadata": {},
   "outputs": [
    {
     "data": {
      "image/png": "[encoded data removed]",
      "text/plain": [
       "<rdkit.Chem.rdchem.Mol at 0x7f016a83f670>"
      ]
     },
     "execution_count": 14,
     "metadata": {},
     "output_type": "execute_result"
    }
   ],
   "source": [
    "from rdkit.Chem import Draw\n",
    "from rdkit.Chem.AllChem import Compute2DCoords\n",
    "from rdkit.Chem.Draw import IPythonConsole\n",
    "m"
   ]
  },
  {
   "cell_type": "markdown",
   "metadata": {},
   "source": [
    "Let's repeat this for all molecules"
   ]
  },
  {
   "cell_type": "code",
   "execution_count": 1635,
   "metadata": {},
   "outputs": [],
   "source": [
    "from torch_geometric.data import Data, DataLoader\n",
    "from torchvision import transforms\n",
    "data_list = []\n",
    "featurizer = RDKitDescriptors()\n",
    "\n",
    "for ix, m in enumerate(mols):\n",
    "    mol_featurized = get_molecule_features(m)\n",
    "    A = GetAdjacencyMatrix(m)\n",
    "    edge_index = create_edge_index(A)\n",
    "    x = torch.tensor(mol_featurized)\n",
    "    #x_min = torch.min(x)\n",
    "    #range_x = torch.max(x) - torch.min(x)\n",
    "    #x = (x - x_min) / range_x\n",
    "    if not x.shape[0] == torch.DoubleTensor(y[ix]).shape[0]:\n",
    "        print(\"Unmatching x and y!\")\n",
    "        print(x.shape)\n",
    "        print(torch.DoubleTensor(y[ix]).shape)\n",
    "        break\n",
    "    d = Data(x=x, edge_index=torch.LongTensor(edge_index), y=torch.DoubleTensor(y[ix]))\n",
    "    d.fingerprint = fingerprints[ix]\n",
    "    data_list.append(d)"
   ]
  },
  {
   "cell_type": "code",
   "execution_count": 1636,
   "metadata": {},
   "outputs": [],
   "source": [
    "loader = DataLoader(data_list, batch_size=32)"
   ]
  },
  {
   "cell_type": "markdown",
   "metadata": {},
   "source": [
    "# Setting Up Graph Convolutional Network"
   ]
  },
  {
   "cell_type": "code",
   "execution_count": 1652,
   "metadata": {},
   "outputs": [],
   "source": [
    "from torch_geometric.nn import GCNConv, BatchNorm, GMMConv, SAGEConv, GraphConv, GATConv\n",
    "from torch_geometric.nn.pool import TopKPooling, EdgePooling, SAGPooling\n",
    "from torch import nn\n",
    "\n",
    "class Net(torch.nn.Module):\n",
    "    def __init__(self):\n",
    "        super(Net, self).__init__()\n",
    "        self.conv1 = GraphConv(75, 256)\n",
    "        self.conv2 = GraphConv(256, 256)\n",
    "        self.batch_norm1 = BatchNorm(256)\n",
    "        self.linear = nn.Linear(256, 3)\n",
    "        self.linear2 = nn.Linear(1024, 3)\n",
    "\n",
    "    def forward(self, data):\n",
    "        x, edge_index = data.x, data.edge_index\n",
    "        x = self.conv1(x, edge_index)\n",
    "        x = F.relu(x)\n",
    "        x = self.batch_norm1(x)\n",
    "        \n",
    "        x = self.conv2(x, edge_index)\n",
    "        x = F.relu(x)\n",
    "        x = self.batch_norm1(x)\n",
    "        \n",
    "        \n",
    "        \n",
    "        x = self.conv2(x, edge_index)\n",
    "        x = F.relu(x)\n",
    "        x = self.batch_norm1(x)\n",
    "        \n",
    "        x = self.linear(x)\n",
    "        #x = x.mean(dim=0)\n",
    "        #fp = torch.DoubleTensor(data.fingerprint).to(device)\n",
    "        #fp_t = self.linear2(fp)\n",
    "        #print(fp_t)\n",
    "        \n",
    "        #z = torch.cat((x,fp), dim=0)\n",
    "        #x = self.linear2(z)\n",
    "        return x"
   ]
  },
  {
   "cell_type": "code",
   "execution_count": 1653,
   "metadata": {},
   "outputs": [],
   "source": [
    "device = torch.device('cuda' if torch.cuda.is_available() else 'cpu')\n",
    "model = Net().to(device)\n",
    "data = loader.dataset[0].to(device)\n",
    "optimizer = torch.optim.Adam(model.parameters(), lr=0.001, weight_decay=5e-4)"
   ]
  },
  {
   "cell_type": "code",
   "execution_count": 1654,
   "metadata": {},
   "outputs": [],
   "source": [
    "def chunks(lst, n):\n",
    "    \"\"\"Yield successive n-sized chunks from lst.\"\"\"\n",
    "    for i in range(0, len(lst), n):\n",
    "        yield lst[i:i + n]"
   ]
  },
  {
   "cell_type": "code",
   "execution_count": 1655,
   "metadata": {},
   "outputs": [],
   "source": [
    "import random\n",
    "random.shuffle(loader.dataset)\n",
    "N = len(loader.dataset)\n",
    "num_train = int(N*0.01)\n",
    "X_train = loader.dataset[:num_train]\n",
    "X_val = loader.dataset[num_train:]\n",
    "batch_size = 128\n",
    "X_train_batched = chunks(X_train, len(X_train) // batch_size)"
   ]
  },
  {
   "cell_type": "code",
   "execution_count": null,
   "metadata": {},
   "outputs": [],
   "source": [
    "model.double()\n",
    "model.train()\n",
    "n_epochs = 1000\n",
    "\n",
    "for epoch in range(n_epochs):\n",
    "    print(\"===== Epoch %d of %d ====\" % (epoch + 1, n_epochs))\n",
    "    losses = []\n",
    "    batch_ix = 0\n",
    "    num_batches = len(X_train) // batch_size\n",
    "    random.shuffle(X_train)\n",
    "    X_train_batched = chunks(X_train, num_batches)\n",
    "    for batch_ix in tqdm(range(num_batches)):\n",
    "        batch = next(X_train_batched)\n",
    "        y_hats = []\n",
    "        ys = []\n",
    "\n",
    "        for data in batch:\n",
    "            data.to(device)\n",
    "            y_hat = model(data)\n",
    "            y_hats.append(y_hat)\n",
    "            ys.append(data.y)\n",
    "            \n",
    "        \n",
    "\n",
    "        y_hats = torch.cat(y_hats)\n",
    "        ys = torch.cat(ys)\n",
    "        \n",
    "\n",
    "        loss = F.mse_loss(y_hats, ys)\n",
    "        loss.backward()\n",
    "        losses.append(loss)\n",
    "        optimizer.step()\n",
    "        optimizer.zero_grad()\n",
    "    \n",
    "    print(\"Average loss: %.4f\" % torch.stack(losses).mean())"
   ]
  }
 ],
 "metadata": {
  "kernelspec": {
   "display_name": "Python 3",
   "language": "python",
   "name": "python3"
  },
  "language_info": {
   "codemirror_mode": {
    "name": "ipython",
    "version": 3
   },
   "file_extension": ".py",
   "mimetype": "text/x-python",
   "name": "python",
   "nbconvert_exporter": "python",
   "pygments_lexer": "ipython3",
   "version": "3.6.9"
  }
 },
 "nbformat": 4,
 "nbformat_minor": 4
}
