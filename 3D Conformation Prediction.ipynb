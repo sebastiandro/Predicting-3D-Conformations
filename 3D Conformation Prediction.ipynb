{
 "cells": [
  {
   "cell_type": "markdown",
   "metadata": {},
   "source": [
    "# 3D Conformation Prediction"
   ]
  },
  {
   "cell_type": "code",
   "execution_count": 300,
   "metadata": {},
   "outputs": [],
   "source": [
    "import pandas as pd\n",
    "import numpy as np\n",
    "import os\n",
    "import glob\n",
    "import torch\n",
    "import torch.nn.functional as F\n",
    "from tqdm import tqdm\n",
    "from rdkit.Chem import MolFromSmiles"
   ]
  },
  {
   "cell_type": "code",
   "execution_count": 634,
   "metadata": {},
   "outputs": [],
   "source": [
    "from IPython import get_ipython\n",
    "\n",
    "def tqdm_clear(*args, **kwargs):\n",
    "    from tqdm import tqdm\n",
    "    getattr(tqdm, '_instances', {}).clear()\n",
    "\n",
    "get_ipython().events.register('post_execute', tqdm_clear)"
   ]
  },
  {
   "cell_type": "markdown",
   "metadata": {},
   "source": [
    "## Load QM9"
   ]
  },
  {
   "cell_type": "code",
   "execution_count": 588,
   "metadata": {
    "scrolled": true
   },
   "outputs": [
    {
     "name": "stderr",
     "output_type": "stream",
     "text": [
      "100%|██████████| 133885/133885 [00:06<00:00, 19952.29it/s]\n"
     ]
    }
   ],
   "source": [
    "file_re = os.path.join('./qm92', '*.xyz')\n",
    "file_pathes = glob.glob(file_re)\n",
    "file_pathes.sort()\n",
    "ls = []\n",
    "_smiles_column_names = ['smiles1', 'smiles2']\n",
    "_label_names = ['A', 'B', 'C', 'mu', 'alpha', 'homo', 'lumo', 'gap', 'r2',\n",
    "                'zpve', 'U0', 'U', 'H', 'G', 'Cv']\n",
    "\n",
    "y = []\n",
    "for ix,path in enumerate(tqdm(file_pathes)):\n",
    "    with open(path, 'r') as f:\n",
    "        data = [line.strip() for line in f]\n",
    "        \n",
    "    num_atom = int(data[0])\n",
    "    properties = list(map(float, data[1].split('\\t')[1:]))\n",
    "    ys = []\n",
    "    for ix_pos in range(2,num_atom+2):\n",
    "        if not data[ix_pos][0] == 'H':\n",
    "            ys.append(list(map(float, data[ix_pos].replace('*^', 'e').split('\\t')[1:]))[:3])\n",
    "    y.append(ys)\n",
    "\n",
    "    smiles = data[3 + num_atom].split('\\t')\n",
    "    new_ls = smiles + properties\n",
    "    ls.append(new_ls)\n",
    "\n",
    "df = pd.DataFrame(ls, columns= _smiles_column_names + _label_names)"
   ]
  },
  {
   "cell_type": "code",
   "execution_count": 589,
   "metadata": {
    "scrolled": true
   },
   "outputs": [
    {
     "data": {
      "text/html": [
       "<div>\n",
       "<style scoped>\n",
       "    .dataframe tbody tr th:only-of-type {\n",
       "        vertical-align: middle;\n",
       "    }\n",
       "\n",
       "    .dataframe tbody tr th {\n",
       "        vertical-align: top;\n",
       "    }\n",
       "\n",
       "    .dataframe thead th {\n",
       "        text-align: right;\n",
       "    }\n",
       "</style>\n",
       "<table border=\"1\" class=\"dataframe\">\n",
       "  <thead>\n",
       "    <tr style=\"text-align: right;\">\n",
       "      <th></th>\n",
       "      <th>smiles1</th>\n",
       "      <th>smiles2</th>\n",
       "      <th>A</th>\n",
       "      <th>B</th>\n",
       "      <th>C</th>\n",
       "      <th>mu</th>\n",
       "      <th>alpha</th>\n",
       "      <th>homo</th>\n",
       "      <th>lumo</th>\n",
       "      <th>gap</th>\n",
       "      <th>r2</th>\n",
       "      <th>zpve</th>\n",
       "      <th>U0</th>\n",
       "      <th>U</th>\n",
       "      <th>H</th>\n",
       "      <th>G</th>\n",
       "      <th>Cv</th>\n",
       "    </tr>\n",
       "  </thead>\n",
       "  <tbody>\n",
       "    <tr>\n",
       "      <th>49078</th>\n",
       "      <td>O=CC12COC3C1CC23</td>\n",
       "      <td>O=C[C@@]12CO[C@H]3[C@@H]1C[C@@H]23</td>\n",
       "      <td>2.88145</td>\n",
       "      <td>1.74490</td>\n",
       "      <td>1.25725</td>\n",
       "      <td>2.7903</td>\n",
       "      <td>72.40</td>\n",
       "      <td>-0.2500</td>\n",
       "      <td>-0.0347</td>\n",
       "      <td>0.2153</td>\n",
       "      <td>982.5117</td>\n",
       "      <td>0.137075</td>\n",
       "      <td>-421.785763</td>\n",
       "      <td>-421.778825</td>\n",
       "      <td>-421.777881</td>\n",
       "      <td>-421.817192</td>\n",
       "      <td>27.446</td>\n",
       "    </tr>\n",
       "    <tr>\n",
       "      <th>69707</th>\n",
       "      <td>CC12CN1C1C2OC1=O</td>\n",
       "      <td>C[C@]12CN1[C@@H]1[C@H]2OC1=O</td>\n",
       "      <td>4.07021</td>\n",
       "      <td>1.37292</td>\n",
       "      <td>1.25520</td>\n",
       "      <td>3.7565</td>\n",
       "      <td>68.22</td>\n",
       "      <td>-0.2554</td>\n",
       "      <td>-0.0130</td>\n",
       "      <td>0.2424</td>\n",
       "      <td>1011.3388</td>\n",
       "      <td>0.124154</td>\n",
       "      <td>-437.849207</td>\n",
       "      <td>-437.841839</td>\n",
       "      <td>-437.840894</td>\n",
       "      <td>-437.880921</td>\n",
       "      <td>28.460</td>\n",
       "    </tr>\n",
       "    <tr>\n",
       "      <th>82263</th>\n",
       "      <td>NC1C2OC2C=C1C#N</td>\n",
       "      <td>N[C@H]1[C@H]2O[C@H]2C=C1C#N</td>\n",
       "      <td>3.21969</td>\n",
       "      <td>1.40491</td>\n",
       "      <td>1.08228</td>\n",
       "      <td>3.2101</td>\n",
       "      <td>72.79</td>\n",
       "      <td>-0.2544</td>\n",
       "      <td>-0.0649</td>\n",
       "      <td>0.1895</td>\n",
       "      <td>1065.4361</td>\n",
       "      <td>0.114172</td>\n",
       "      <td>-416.799128</td>\n",
       "      <td>-416.791531</td>\n",
       "      <td>-416.790586</td>\n",
       "      <td>-416.831300</td>\n",
       "      <td>28.752</td>\n",
       "    </tr>\n",
       "    <tr>\n",
       "      <th>89710</th>\n",
       "      <td>CC1(C)OC11CC(O)C1</td>\n",
       "      <td>CC1(C)O[C@]21C[C@@H](O)C2</td>\n",
       "      <td>2.76243</td>\n",
       "      <td>1.13601</td>\n",
       "      <td>1.10750</td>\n",
       "      <td>1.7532</td>\n",
       "      <td>79.14</td>\n",
       "      <td>-0.2512</td>\n",
       "      <td>0.0668</td>\n",
       "      <td>0.3179</td>\n",
       "      <td>1254.4094</td>\n",
       "      <td>0.179357</td>\n",
       "      <td>-424.206564</td>\n",
       "      <td>-424.196785</td>\n",
       "      <td>-424.195840</td>\n",
       "      <td>-424.241121</td>\n",
       "      <td>36.999</td>\n",
       "    </tr>\n",
       "    <tr>\n",
       "      <th>11412</th>\n",
       "      <td>CCC1CNC(=O)C1</td>\n",
       "      <td>CC[C@H]1CNC(=O)C1</td>\n",
       "      <td>5.54006</td>\n",
       "      <td>1.15777</td>\n",
       "      <td>1.00040</td>\n",
       "      <td>3.9261</td>\n",
       "      <td>71.77</td>\n",
       "      <td>-0.2354</td>\n",
       "      <td>0.0384</td>\n",
       "      <td>0.2738</td>\n",
       "      <td>1179.1519</td>\n",
       "      <td>0.167074</td>\n",
       "      <td>-365.121098</td>\n",
       "      <td>-365.112947</td>\n",
       "      <td>-365.112003</td>\n",
       "      <td>-365.153828</td>\n",
       "      <td>30.304</td>\n",
       "    </tr>\n",
       "  </tbody>\n",
       "</table>\n",
       "</div>"
      ],
      "text/plain": [
       "                 smiles1                             smiles2        A  \\\n",
       "49078   O=CC12COC3C1CC23  O=C[C@@]12CO[C@H]3[C@@H]1C[C@@H]23  2.88145   \n",
       "69707   CC12CN1C1C2OC1=O        C[C@]12CN1[C@@H]1[C@H]2OC1=O  4.07021   \n",
       "82263    NC1C2OC2C=C1C#N         N[C@H]1[C@H]2O[C@H]2C=C1C#N  3.21969   \n",
       "89710  CC1(C)OC11CC(O)C1           CC1(C)O[C@]21C[C@@H](O)C2  2.76243   \n",
       "11412      CCC1CNC(=O)C1                   CC[C@H]1CNC(=O)C1  5.54006   \n",
       "\n",
       "             B        C      mu  alpha    homo    lumo     gap         r2  \\\n",
       "49078  1.74490  1.25725  2.7903  72.40 -0.2500 -0.0347  0.2153   982.5117   \n",
       "69707  1.37292  1.25520  3.7565  68.22 -0.2554 -0.0130  0.2424  1011.3388   \n",
       "82263  1.40491  1.08228  3.2101  72.79 -0.2544 -0.0649  0.1895  1065.4361   \n",
       "89710  1.13601  1.10750  1.7532  79.14 -0.2512  0.0668  0.3179  1254.4094   \n",
       "11412  1.15777  1.00040  3.9261  71.77 -0.2354  0.0384  0.2738  1179.1519   \n",
       "\n",
       "           zpve          U0           U           H           G      Cv  \n",
       "49078  0.137075 -421.785763 -421.778825 -421.777881 -421.817192  27.446  \n",
       "69707  0.124154 -437.849207 -437.841839 -437.840894 -437.880921  28.460  \n",
       "82263  0.114172 -416.799128 -416.791531 -416.790586 -416.831300  28.752  \n",
       "89710  0.179357 -424.206564 -424.196785 -424.195840 -424.241121  36.999  \n",
       "11412  0.167074 -365.121098 -365.112947 -365.112003 -365.153828  30.304  "
      ]
     },
     "execution_count": 589,
     "metadata": {},
     "output_type": "execute_result"
    }
   ],
   "source": [
    "df.sample(5)"
   ]
  },
  {
   "cell_type": "markdown",
   "metadata": {},
   "source": [
    "# Setting up dataset"
   ]
  },
  {
   "cell_type": "markdown",
   "metadata": {},
   "source": [
    "The first thing we want to do is to find a way of representing a molecule to our graph convolutional network. For this, we will make use of DeepChem which provides a number of 'featurizers'. In this case the features of an atom is a number of descriptors generated from RDKit."
   ]
  },
  {
   "cell_type": "code",
   "execution_count": 590,
   "metadata": {},
   "outputs": [],
   "source": [
    "mols = [MolFromSmiles(row.smiles1) for (ix,row) in df.iterrows()]"
   ]
  },
  {
   "cell_type": "code",
   "execution_count": 367,
   "metadata": {},
   "outputs": [],
   "source": [
    "import networkx as nx\n",
    "\n",
    "def create_edge_index(A):\n",
    "    rows = []\n",
    "    cols = []\n",
    "    for i in range(A.shape[0]):\n",
    "        for j in range(A.shape[0]):\n",
    "            if A[i,j] == 1:\n",
    "                rows.append(i)\n",
    "                cols.append(j)\n",
    "    return rows, cols\n",
    "\n",
    "def get_molecule_features(m):\n",
    "    featurizer = ConvMolFeaturizer()\n",
    "    return featurizer.featurize([m])[0].get_atom_features()"
   ]
  },
  {
   "cell_type": "code",
   "execution_count": 355,
   "metadata": {},
   "outputs": [],
   "source": [
    "from deepchem.feat import RDKitDescriptors, ConvMolFeaturizer\n",
    "from rdkit.Chem.rdmolops import GetAdjacencyMatrix\n",
    "\n",
    "m = mols[50]\n",
    "molecule_featurized = get_molecule_features(m)\n",
    "A = GetAdjacencyMatrix(m)"
   ]
  },
  {
   "cell_type": "markdown",
   "metadata": {},
   "source": [
    "Let's see how our adjacency matrix looks. This matrix will be used in our graph convolutions."
   ]
  },
  {
   "cell_type": "code",
   "execution_count": 13,
   "metadata": {
    "scrolled": true
   },
   "outputs": [
    {
     "data": {
      "image/png": "[encoded data removed]",
      "text/plain": [
       "<Figure size 432x288 with 1 Axes>"
      ]
     },
     "metadata": {},
     "output_type": "display_data"
    }
   ],
   "source": [
    "D = nx.to_networkx_graph(A,create_using=nx.DiGraph())\n",
    "nx.draw(D)"
   ]
  },
  {
   "cell_type": "markdown",
   "metadata": {},
   "source": [
    "Let's see how the molecule looks in 2D according to RDKit"
   ]
  },
  {
   "cell_type": "code",
   "execution_count": 14,
   "metadata": {},
   "outputs": [
    {
     "data": {
      "image/png": "[encoded data removed]",
      "text/plain": [
       "<rdkit.Chem.rdchem.Mol at 0x7f016a83f670>"
      ]
     },
     "execution_count": 14,
     "metadata": {},
     "output_type": "execute_result"
    }
   ],
   "source": [
    "from rdkit.Chem import Draw\n",
    "from rdkit.Chem.AllChem import Compute2DCoords\n",
    "from rdkit.Chem.Draw import IPythonConsole\n",
    "m"
   ]
  },
  {
   "cell_type": "markdown",
   "metadata": {},
   "source": [
    "Let's repeat this for all molecules"
   ]
  },
  {
   "cell_type": "code",
   "execution_count": 1010,
   "metadata": {},
   "outputs": [],
   "source": [
    "from torch_geometric.data import Data, DataLoader\n",
    "from torchvision import transforms\n",
    "data_list = []\n",
    "featurizer = RDKitDescriptors()\n",
    "\n",
    "for ix, m in enumerate(mols):\n",
    "    mol_featurized = get_molecule_features(m)\n",
    "    A = GetAdjacencyMatrix(m)\n",
    "    edge_index = create_edge_index(A)\n",
    "    x = torch.tensor(mol_featurized)\n",
    "    #x_min = torch.min(x)\n",
    "    #range_x = torch.max(x) - torch.min(x)\n",
    "    #x = (x - x_min) / range_x\n",
    "    if not x.shape[0] == torch.DoubleTensor(y[ix]).shape[0]:\n",
    "        print(\"Unmatching x and y!\")\n",
    "        print(x.shape)\n",
    "        print(torch.DoubleTensor(y[ix]).shape)\n",
    "        break\n",
    "    d = Data(x=x, edge_index=torch.LongTensor(edge_index), y=torch.DoubleTensor(y[ix]))\n",
    "    data_list.append(d)"
   ]
  },
  {
   "cell_type": "code",
   "execution_count": 1011,
   "metadata": {},
   "outputs": [],
   "source": [
    "loader = DataLoader(data_list, batch_size=32)"
   ]
  },
  {
   "cell_type": "markdown",
   "metadata": {},
   "source": [
    "# Setting Up Graph Convolutional Network"
   ]
  },
  {
   "cell_type": "code",
   "execution_count": 1058,
   "metadata": {},
   "outputs": [],
   "source": [
    "from torch_geometric.nn import GCNConv, BatchNorm, GMMConv, SAGEConv\n",
    "from torch_geometric.nn.pool import TopKPooling, EdgePooling, SAGPooling\n",
    "from torch import nn\n",
    "\n",
    "class Net(torch.nn.Module):\n",
    "    def __init__(self):\n",
    "        super(Net, self).__init__()\n",
    "        self.conv1 = SAGEConv(75, 256)\n",
    "        self.conv2 = SAGEConv(256, 256)\n",
    "        self.batch_norm1 = BatchNorm(256)\n",
    "        self.linear = nn.Linear(256, 3)\n",
    "        self.pool = SAGPooling(256)\n",
    "\n",
    "    def forward(self, data):\n",
    "        x, edge_index = data.x, data.edge_index\n",
    "        x = self.conv1(x, edge_index)\n",
    "        x = F.relu(x)\n",
    "        x = self.batch_norm1(x)\n",
    "        \n",
    "        x = self.conv2(x, edge_index)\n",
    "        x = F.relu(x)\n",
    "        x = self.batch_norm1(x)\n",
    "        \n",
    "        x = self.conv2(x, edge_index)\n",
    "        x = F.relu(x)\n",
    "        x = self.batch_norm1(x)\n",
    "\n",
    "        x = self.linear(x)\n",
    "        return x"
   ]
  },
  {
   "cell_type": "code",
   "execution_count": 1059,
   "metadata": {},
   "outputs": [],
   "source": [
    "device = torch.device('cuda' if torch.cuda.is_available() else 'cpu')\n",
    "model = Net().to(device)\n",
    "data = loader.dataset[0].to(device)\n",
    "optimizer = torch.optim.Adam(model.parameters(), lr=0.001, weight_decay=5e-4)"
   ]
  },
  {
   "cell_type": "code",
   "execution_count": 1060,
   "metadata": {},
   "outputs": [],
   "source": [
    "def chunks(lst, n):\n",
    "    \"\"\"Yield successive n-sized chunks from lst.\"\"\"\n",
    "    for i in range(0, len(lst), n):\n",
    "        yield lst[i:i + n]"
   ]
  },
  {
   "cell_type": "code",
   "execution_count": 1063,
   "metadata": {},
   "outputs": [],
   "source": [
    "import random\n",
    "random.shuffle(loader.dataset)\n",
    "N = len(loader.dataset)\n",
    "num_train = int(N*0.1)\n",
    "X_train = loader.dataset[:num_train]\n",
    "X_val = loader.dataset[num_train:]\n",
    "batch_size = 128\n",
    "X_train_batched = chunks(X_train, len(X_train) // batch_size)"
   ]
  },
  {
   "cell_type": "code",
   "execution_count": null,
   "metadata": {},
   "outputs": [
    {
     "name": "stderr",
     "output_type": "stream",
     "text": [
      " 67%|██████▋   | 70/104 [00:13<00:06,  5.11it/s]"
     ]
    }
   ],
   "source": [
    "model.double()\n",
    "model.train()\n",
    "n_epochs = 1000\n",
    "\n",
    "for epoch in range(n_epochs):\n",
    "    print(\"===== Epoch %d of %d ====\" % (epoch + 1, n_epochs))\n",
    "    losses = []\n",
    "    batch_ix = 0\n",
    "    num_batches = len(X_train) // batch_size\n",
    "    random.shuffle(X_train)\n",
    "    X_train_batched = chunks(X_train, num_batches)\n",
    "    for batch_ix in tqdm(range(num_batches)):\n",
    "        batch = next(X_train_batched)\n",
    "        y_hats = []\n",
    "        ys = []\n",
    "\n",
    "        for data in batch:\n",
    "            data.to(device)\n",
    "            y_hat = model(data)\n",
    "            y_hats.append(y_hat)\n",
    "            ys.append(data.y)\n",
    "\n",
    "        y_hats = torch.cat(y_hats)\n",
    "        ys = torch.cat(ys)\n",
    "        \n",
    "\n",
    "        loss = F.mse_loss(y_hats, ys)\n",
    "        loss.backward()\n",
    "        losses.append(loss)\n",
    "        optimizer.step()\n",
    "        optimizer.zero_grad()\n",
    "    \n",
    "    print(\"Average loss: %.4f\" % torch.stack(losses).mean())"
   ]
  },
  {
   "cell_type": "code",
   "execution_count": null,
   "metadata": {},
   "outputs": [],
   "source": []
  },
  {
   "cell_type": "code",
   "execution_count": null,
   "metadata": {},
   "outputs": [],
   "source": []
  }
 ],
 "metadata": {
  "kernelspec": {
   "display_name": "Python 3",
   "language": "python",
   "name": "python3"
  },
  "language_info": {
   "codemirror_mode": {
    "name": "ipython",
    "version": 3
   },
   "file_extension": ".py",
   "mimetype": "text/x-python",
   "name": "python",
   "nbconvert_exporter": "python",
   "pygments_lexer": "ipython3",
   "version": "3.6.9"
  }
 },
 "nbformat": 4,
 "nbformat_minor": 4
}
